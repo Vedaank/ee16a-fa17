{
 "cells": [
  {
   "cell_type": "markdown",
   "metadata": {},
   "source": [
    "# EE16A Homework 12"
   ]
  },
  {
   "cell_type": "markdown",
   "metadata": {
    "collapsed": true
   },
   "source": [
    "## Question 1: Labeling Patients Using Gene Expression Data"
   ]
  },
  {
   "cell_type": "code",
   "execution_count": 21,
   "metadata": {},
   "outputs": [
    {
     "name": "stdout",
     "output_type": "stream",
     "text": [
      "Populating the interactive namespace from numpy and matplotlib\n"
     ]
    }
   ],
   "source": [
    "%pylab inline\n",
    "import numpy as np\n",
    "import matplotlib.pyplot as plt\n",
    "import scipy.io\n",
    "import sys"
   ]
  },
  {
   "cell_type": "markdown",
   "metadata": {},
   "source": [
    "### Part (b)"
   ]
  },
  {
   "cell_type": "code",
   "execution_count": 22,
   "metadata": {},
   "outputs": [
    {
     "name": "stdout",
     "output_type": "stream",
     "text": [
      "[[-0.15646169]\n",
      " [ 0.09239418]\n",
      " [ 0.48053974]\n",
      " [-0.5847018 ]\n",
      " [-0.35350734]]\n"
     ]
    }
   ],
   "source": [
    "A = np.load('gene_data_train.npy')\n",
    "b = np.load('diabetes_train.npy')\n",
    "\n",
    "# YOUR CODE HERE\n",
    "partb = np.dot(np.dot(np.linalg.inv(np.dot(A.T, A)), A.T), b)\n",
    "print(partb)"
   ]
  },
  {
   "cell_type": "markdown",
   "metadata": {},
   "source": [
    "### Part (c)"
   ]
  },
  {
   "cell_type": "code",
   "execution_count": 23,
   "metadata": {},
   "outputs": [
    {
     "name": "stdout",
     "output_type": "stream",
     "text": [
      "[[ 1.]\n",
      " [-1.]\n",
      " [-1.]\n",
      " [ 1.]]\n",
      "GOOD\n"
     ]
    }
   ],
   "source": [
    "A_test = np.load('gene_data_test.npy')\n",
    "b_test = np.load('diabetes_test.npy')\n",
    "\n",
    "partc = np.sign(np.dot(A_test, partb))\n",
    "print(partc)\n",
    "if all(partc == b_test):\n",
    "    print(\"GOOD\")"
   ]
  },
  {
   "cell_type": "markdown",
   "metadata": {},
   "source": [
    "## Question 2: The Framingham Risk Score"
   ]
  },
  {
   "cell_type": "code",
   "execution_count": 24,
   "metadata": {},
   "outputs": [
    {
     "name": "stdout",
     "output_type": "stream",
     "text": [
      "Populating the interactive namespace from numpy and matplotlib\n"
     ]
    }
   ],
   "source": [
    "%pylab inline\n",
    "import numpy as np\n",
    "import matplotlib.pyplot as plt"
   ]
  },
  {
   "cell_type": "markdown",
   "metadata": {},
   "source": [
    "### Part (a)"
   ]
  },
  {
   "cell_type": "code",
   "execution_count": 32,
   "metadata": {
    "collapsed": true
   },
   "outputs": [],
   "source": [
    "# Importing medical data\n",
    "import scipy.io\n",
    "\n",
    "# LOADS IN THE MEDICAL DATA IN THE FORM OF A PYTHON DICTIONARY.\n",
    "# Data credit: CDC (https://www.cdc.gov/nchs/nhanes/index.htm)\n",
    "data = scipy.io.loadmat('CVDdata.mat')\n",
    "\n",
    "#UNPACKING DATA INTO COLUMN VECTORS\n",
    "AGE = data['AGE']\n",
    "TC = data['TC']\n",
    "HDL = data['HDL']\n",
    "SBP = data['SBP']\n",
    "DIA = data['DIABETIC']\n",
    "SMK = data['SMOKER']\n",
    "p = data['pNoisy']\n",
    "\n",
    "# Write expressions for b, A1, A2, A3, A4, A5, A6\n",
    "# It will help to use the identity log_n(z) = log(z)/log(n)\n",
    "\n",
    "b = np.log(np.log(1 - p)/np.log(0.95)) + 26.1931\n",
    "\n",
    "A1 = np.log(AGE)\n",
    "A2 = np.log(TC)\n",
    "A3 = np.log(HDL)\n",
    "A4 = np.log(SBP)\n",
    "A5 = DIA\n",
    "A6 = SMK "
   ]
  },
  {
   "cell_type": "markdown",
   "metadata": {},
   "source": [
    "### Part (b)"
   ]
  },
  {
   "cell_type": "code",
   "execution_count": 33,
   "metadata": {
    "collapsed": true
   },
   "outputs": [],
   "source": [
    "# Write expressions for b and A\n",
    "# The function np.hstack will be helpful for constructing A\n",
    "b = np.array(b.ravel())\n",
    "A = np.hstack((A1,A2,A3,A4,A5,A6))"
   ]
  },
  {
   "cell_type": "markdown",
   "metadata": {},
   "source": [
    "### Part (c)"
   ]
  },
  {
   "cell_type": "code",
   "execution_count": 34,
   "metadata": {},
   "outputs": [
    {
     "name": "stdout",
     "output_type": "stream",
     "text": [
      "The estimated values for x are xhat = [ 2.34327369  1.24044555 -0.66934665  2.68555428  0.70524013  0.51329258]\n"
     ]
    }
   ],
   "source": [
    "# Write an expression for xhat\n",
    "\n",
    "xhat = np.dot(np.linalg.inv(np.dot(A.T, A)), np.dot(A.T, b))\n",
    "\n",
    "print(\"The estimated values for x are xhat = \" + str(xhat.T))"
   ]
  },
  {
   "cell_type": "markdown",
   "metadata": {},
   "source": [
    "### Part (d)"
   ]
  },
  {
   "cell_type": "code",
   "execution_count": 35,
   "metadata": {},
   "outputs": [
    {
     "name": "stdout",
     "output_type": "stream",
     "text": [
      "The model's prediction of b is [ 26.21399319  27.4128133   27.43648772  25.80673192  26.12639507\n",
      "  26.68161922  27.16927526  27.14921488  25.65767063  27.06523114\n",
      "  25.81175786  26.6032258   26.68011423  26.84918426  26.29966592\n",
      "  26.85483259  26.14358214  25.38011292  28.80400373  24.92787361\n",
      "  26.77530659  27.46602092  26.69735177  26.7798927   26.21647793\n",
      "  26.25267347  27.23121901  26.94595637  25.75369621  27.46792417\n",
      "  26.58987675  27.37796315  26.75467019  25.65642702  26.00654597\n",
      "  25.06980951  24.97513153  26.13889026  26.40111589  26.85670399\n",
      "  26.21457917  27.05878566  28.91126017  28.53106591  27.42836368\n",
      "  26.84421906  25.45854365  26.27208395  26.51473879  24.98249006\n",
      "  26.52040572  25.69758668  27.51931497  28.24008412  27.03477044\n",
      "  27.28423925  26.91858308  25.11215988  25.29448753  27.21335466\n",
      "  26.32177296  23.7466842   25.5854037   25.74490149  26.07656195\n",
      "  25.16067214  27.91608902  23.9026621   27.57020497  26.92704953\n",
      "  27.09646864  27.47683759  28.29195644  26.22269015  26.30528565\n",
      "  27.71574498  26.29081788  24.7910916   26.1727077   26.97405795\n",
      "  26.42014344  24.9767692   26.02848916  23.97603353  27.06745034\n",
      "  25.96435379  27.71640155  26.72019701  26.64140279  26.81028117\n",
      "  26.74800567]\n",
      "The sum of squared errors is 0.695126850833\n"
     ]
    }
   ],
   "source": [
    "# the model estimate bhat, and the squared error e2\n",
    "bhat = np.dot(A, xhat)\n",
    "e2 = np.linalg.norm(bhat - b)**2 \n",
    "\n",
    "print(\"The model's prediction of b is \" + str(bhat))\n",
    "print(\"The sum of squared errors is \" + str(e2))"
   ]
  },
  {
   "cell_type": "markdown",
   "metadata": {},
   "source": [
    "### Part (e)"
   ]
  },
  {
   "cell_type": "code",
   "execution_count": 36,
   "metadata": {},
   "outputs": [
    {
     "data": {
      "text/plain": [
       "[<matplotlib.lines.Line2D at 0x15cb1cd2eb8>]"
      ]
     },
     "execution_count": 36,
     "metadata": {},
     "output_type": "execute_result"
    },
    {
     "data": {
      "image/png": "[encoded data removed]",
      "text/plain": [
       "<matplotlib.figure.Figure at 0x15cb1c45ba8>"
      ]
     },
     "metadata": {},
     "output_type": "display_data"
    }
   ],
   "source": [
    "# Linear plots, pick an index below (0,1,2,etc). This code will plot b and bhat vs Ai\n",
    "i = 3\n",
    "plt.plot(A[:,i],b,'ob')\n",
    "plt.plot(A[:,i],bhat,'or')"
   ]
  },
  {
   "cell_type": "markdown",
   "metadata": {},
   "source": [
    "### Part (f)"
   ]
  },
  {
   "cell_type": "code",
   "execution_count": 37,
   "metadata": {},
   "outputs": [
    {
     "data": {
      "text/plain": [
       "[<matplotlib.lines.Line2D at 0x15cb1eb31d0>]"
      ]
     },
     "execution_count": 37,
     "metadata": {},
     "output_type": "execute_result"
    },
    {
     "data": {
      "image/png": "[encoded data removed]",
      "text/plain": [
       "<matplotlib.figure.Figure at 0x15cb1dd18d0>"
      ]
     },
     "metadata": {},
     "output_type": "display_data"
    }
   ],
   "source": [
    "# Here are the values for the test plot\n",
    "age_test = 40\n",
    "tc_test_vector = np.linspace(100,350,(350-100+1))\n",
    "hdl_test = 25\n",
    "sbp_test = 220\n",
    "dia_test = 1\n",
    "smk_test = 1\n",
    "\n",
    "A2_test = np.zeros(tc_test_vector.size)\n",
    "b_test = np.zeros(tc_test_vector.size)\n",
    "\n",
    "for ind in range(tc_test_vector.size):\n",
    "    tc_test = tc_test_vector[ind];\n",
    "    # Use the values for age_test, tc_test, hdl_test, sbp_test, dia_test\n",
    "    # and smk_test to calculate the next value for b_test (y axis value)\n",
    "    # and A2_test (x_axis value)\n",
    "    a = np.array([np.log(age_test), np.log(tc_test), np.log(hdl_test), np.log(sbp_test), dia_test, smk_test])\n",
    "    b_test[ind] = np.dot(a, xhat)\n",
    "    A2_test[ind] = np.log(tc_test)\n",
    "\n",
    "plt.plot(A2_test,b_test,'-b')"
   ]
  },
  {
   "cell_type": "markdown",
   "metadata": {},
   "source": [
    "### Part (g)"
   ]
  },
  {
   "cell_type": "code",
   "execution_count": 45,
   "metadata": {},
   "outputs": [
    {
     "name": "stdout",
     "output_type": "stream",
     "text": [
      "The sum of squared errors after perturbing is 8.79782099271\n"
     ]
    },
    {
     "data": {
      "image/png": "[encoded data removed]",
      "text/plain": [
       "<matplotlib.figure.Figure at 0x15cb313a898>"
      ]
     },
     "metadata": {},
     "output_type": "display_data"
    }
   ],
   "source": [
    "# Perturb xhat from the solution above, store into x_perturbed and replot.\n",
    "\n",
    "# Use the following example expression with different pertrubations.\n",
    "x_perturbed = xhat+np.array([.1, 0.2, 0.2, -0.3, 0.1, 0.32]).T\n",
    "\n",
    "# What are the new estimated b values in terms of x_perturbed?\n",
    "b_perturbed = np.dot(A,x_perturbed)\n",
    "\n",
    "# Plot again\n",
    "plt.plot(A[:,i],b,'ob')\n",
    "plt.plot(A[:,i],b_perturbed,'or')\n",
    "\n",
    "# What is the new sum of squared errors (after perturbing)?\n",
    "e2_perturbed = (np.linalg.norm(b_perturbed - b))\n",
    "\n",
    "print(\"The sum of squared errors after perturbing is \" + str(e2_perturbed))"
   ]
  },
  {
   "cell_type": "markdown",
   "metadata": {},
   "source": [
    "### PRACTICE: Part (h)"
   ]
  },
  {
   "cell_type": "code",
   "execution_count": null,
   "metadata": {
    "collapsed": true
   },
   "outputs": [],
   "source": [
    "# Nonlinear plots, pick an index below (0,1,2,etc). This code will plot b and bhat vs Ai\n",
    "i = 3\n",
    "\n",
    "# Write an expression for estimated p values here\n",
    "p_estimated = 1- np.exp(np.log(0.95)*np.exp(bhat - 26.1931))\n",
    "\n",
    "plt.plot(np.exp(A[:,i]),p,'ob')\n",
    "plt.plot(np.exp(A[:,i]),p_estimated,'or')"
   ]
  },
  {
   "cell_type": "markdown",
   "metadata": {},
   "source": [
    "### PRACTICE: Part (i)"
   ]
  },
  {
   "cell_type": "code",
   "execution_count": null,
   "metadata": {
    "collapsed": true
   },
   "outputs": [],
   "source": [
    "# transform b_test into p_test\n",
    "_test = 1- np.exp(np.log(0.95)*np.exp(b_test - 26.1931))\n",
    "\n",
    "plt.plot(tc_test_vector,p_test,'-b')"
   ]
  }
 ],
 "metadata": {
  "anaconda-cloud": {},
  "kernelspec": {
   "display_name": "Python 3",
   "language": "python",
   "name": "python3"
  },
  "language_info": {
   "codemirror_mode": {
    "name": "ipython",
    "version": 3
   },
   "file_extension": ".py",
   "mimetype": "text/x-python",
   "name": "python",
   "nbconvert_exporter": "python",
   "pygments_lexer": "ipython3",
   "version": "3.6.1"
  }
 },
 "nbformat": 4,
 "nbformat_minor": 1
}
