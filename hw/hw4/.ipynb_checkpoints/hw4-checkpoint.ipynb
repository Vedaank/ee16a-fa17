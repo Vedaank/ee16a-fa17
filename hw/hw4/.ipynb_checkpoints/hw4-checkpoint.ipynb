{
 "cells": [
  {
   "cell_type": "code",
   "execution_count": 1,
   "metadata": {
    "scrolled": true
   },
   "outputs": [
    {
     "data": {
      "text/plain": [
       "(array([ 1.83928676+0.j        , -1.00000000+0.j        ,\n",
       "        -0.41964338+0.60629073j, -0.41964338-0.60629073j]),\n",
       " array([[  6.75507948e-01+0.j        ,  -4.10399876e-17+0.j        ,\n",
       "           6.09542210e-01+0.j        ,   6.09542210e-01-0.j        ],\n",
       "        [  4.37593286e-01+0.j        ,  -2.18879934e-16+0.j        ,\n",
       "           1.07340727e-01+0.52464311j,   1.07340727e-01-0.52464311j],\n",
       "        [  2.83472437e-01+0.j        ,  -7.07106781e-01+0.j        ,\n",
       "          -4.32666281e-01+0.1847799j ,  -4.32666281e-01-0.1847799j ],\n",
       "        [  5.21387098e-01+0.j        ,   7.07106781e-01+0.j        ,\n",
       "           6.95352019e-02-0.33986321j,   6.95352019e-02+0.33986321j]]))"
      ]
     },
     "execution_count": 1,
     "metadata": {},
     "output_type": "execute_result"
    }
   ],
   "source": [
    "import numpy as np\n",
    "matrix_3f = np.array([[0, 1, 1, 1],\n",
    "                    [0, 0, 1, 1],\n",
    "                    [0, 0, 0, 1],\n",
    "                    [1, 0, 1, 0]])\n",
    "np.linalg.eig(matrix_3f)"
   ]
  },
  {
   "cell_type": "code",
   "execution_count": 3,
   "metadata": {},
   "outputs": [
    {
     "data": {
      "text/plain": [
       "(array([ 1.00000000+0.j        , -1.00000000+0.j        ,\n",
       "         1.32471796+0.j        , -0.66235898+0.56227951j,\n",
       "        -0.66235898-0.56227951j]),\n",
       " array([[ 0.70710678+0.j        , -0.70710678+0.j        ,\n",
       "          0.00000000+0.j        ,  0.00000000+0.j        ,  0.00000000-0.j        ],\n",
       "        [ 0.70710678+0.j        ,  0.70710678+0.j        ,\n",
       "          0.00000000+0.j        ,  0.00000000+0.j        ,  0.00000000-0.j        ],\n",
       "        [ 0.00000000+0.j        ,  0.00000000+0.j        ,\n",
       "         -0.54843176+0.j        ,  0.43441848-0.3687798j ,\n",
       "          0.43441848+0.3687798j ],\n",
       "        [ 0.00000000+0.j        ,  0.00000000+0.j        ,\n",
       "         -0.41399889+0.j        , -0.65586562+0.j        , -0.65586562-0.j        ],\n",
       "        [ 0.00000000+0.j        ,  0.00000000+0.j        ,\n",
       "         -0.72651740+0.j        , -0.08038366+0.48852922j,\n",
       "         -0.08038366-0.48852922j]]))"
      ]
     },
     "execution_count": 3,
     "metadata": {},
     "output_type": "execute_result"
    }
   ],
   "source": [
    "import numpy as np\n",
    "matrix_3i = np.array([[0, 1, 0, 0, 0],\n",
    "                    [1, 0, 0, 0, 0],\n",
    "                    [0, 0, 0, 0, 1],\n",
    "                    [0, 0, 1, 0, 0],\n",
    "                    [0, 0, 1, 1, 0]])\n",
    "np.linalg.eig(matrix_3i)"
   ]
  },
  {
   "cell_type": "code",
   "execution_count": null,
   "metadata": {
    "collapsed": true
   },
   "outputs": [],
   "source": []
  }
 ],
 "metadata": {
  "kernelspec": {
   "display_name": "Python 3",
   "language": "python",
   "name": "python3"
  },
  "language_info": {
   "codemirror_mode": {
    "name": "ipython",
    "version": 3
   },
   "file_extension": ".py",
   "mimetype": "text/x-python",
   "name": "python",
   "nbconvert_exporter": "python",
   "pygments_lexer": "ipython3",
   "version": "3.6.1"
  }
 },
 "nbformat": 4,
 "nbformat_minor": 2
}
