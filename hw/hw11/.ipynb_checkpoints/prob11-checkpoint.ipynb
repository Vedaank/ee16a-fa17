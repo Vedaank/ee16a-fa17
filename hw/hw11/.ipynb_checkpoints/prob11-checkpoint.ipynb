{
 "cells": [
  {
   "cell_type": "markdown",
   "metadata": {},
   "source": [
    "# EE16A Homework 11"
   ]
  },
  {
   "cell_type": "markdown",
   "metadata": {},
   "source": [
    "## Question 1: Mechanical Correlation"
   ]
  },
  {
   "cell_type": "code",
   "execution_count": 2,
   "metadata": {},
   "outputs": [
    {
     "ename": "TypeError",
     "evalue": "'builtin_function_or_method' object is not subscriptable",
     "output_type": "error",
     "traceback": [
      "\u001b[1;31m---------------------------------------------------------------------------\u001b[0m",
      "\u001b[1;31mTypeError\u001b[0m                                 Traceback (most recent call last)",
      "\u001b[1;32m<ipython-input-2-22023ed342fe>\u001b[0m in \u001b[0;36m<module>\u001b[1;34m()\u001b[0m\n\u001b[0;32m      8\u001b[0m     \u001b[1;32mreturn\u001b[0m \u001b[0mnp\u001b[0m\u001b[1;33m.\u001b[0m\u001b[0mdot\u001b[0m\u001b[1;33m(\u001b[0m\u001b[0mnp\u001b[0m\u001b[1;33m.\u001b[0m\u001b[0mtranspose\u001b[0m\u001b[1;33m(\u001b[0m\u001b[0mdesired_vec\u001b[0m\u001b[1;33m)\u001b[0m\u001b[1;33m,\u001b[0m \u001b[0mtest_vec\u001b[0m\u001b[1;33m)\u001b[0m\u001b[1;33m\u001b[0m\u001b[0m\n\u001b[0;32m      9\u001b[0m \u001b[1;33m\u001b[0m\u001b[0m\n\u001b[1;32m---> 10\u001b[1;33m \u001b[0marray1\u001b[0m \u001b[1;33m=\u001b[0m \u001b[0mnp\u001b[0m\u001b[1;33m.\u001b[0m\u001b[0marray\u001b[0m\u001b[1;33m[\u001b[0m\u001b[1;36m2\u001b[0m\u001b[1;33m,\u001b[0m \u001b[1;33m-\u001b[0m\u001b[1;36m2\u001b[0m\u001b[1;33m,\u001b[0m \u001b[1;36m2\u001b[0m\u001b[1;33m,\u001b[0m \u001b[1;33m-\u001b[0m\u001b[1;36m2\u001b[0m\u001b[1;33m,\u001b[0m \u001b[1;33m-\u001b[0m\u001b[1;36m2\u001b[0m\u001b[1;33m,\u001b[0m \u001b[1;33m-\u001b[0m\u001b[1;36m2\u001b[0m\u001b[1;33m,\u001b[0m \u001b[1;36m2\u001b[0m\u001b[1;33m,\u001b[0m \u001b[1;33m-\u001b[0m\u001b[1;36m2\u001b[0m\u001b[1;33m,\u001b[0m \u001b[1;36m2\u001b[0m\u001b[1;33m,\u001b[0m \u001b[1;36m2\u001b[0m\u001b[1;33m]\u001b[0m\u001b[1;33m\u001b[0m\u001b[0m\n\u001b[0m\u001b[0;32m     11\u001b[0m \u001b[0marray2\u001b[0m \u001b[1;33m=\u001b[0m \u001b[0mnp\u001b[0m\u001b[1;33m.\u001b[0m\u001b[0marray\u001b[0m\u001b[1;33m[\u001b[0m\u001b[1;36m1\u001b[0m\u001b[1;33m,\u001b[0m \u001b[1;36m2\u001b[0m\u001b[1;33m,\u001b[0m \u001b[1;36m3\u001b[0m\u001b[1;33m,\u001b[0m \u001b[1;36m4\u001b[0m\u001b[1;33m,\u001b[0m \u001b[1;36m5\u001b[0m\u001b[1;33m,\u001b[0m \u001b[1;36m6\u001b[0m\u001b[1;33m,\u001b[0m \u001b[1;36m7\u001b[0m\u001b[1;33m,\u001b[0m \u001b[1;36m6\u001b[0m\u001b[1;33m,\u001b[0m \u001b[1;36m5\u001b[0m\u001b[1;33m,\u001b[0m \u001b[1;36m4\u001b[0m\u001b[1;33m]\u001b[0m\u001b[1;33m\u001b[0m\u001b[0m\n\u001b[0;32m     12\u001b[0m \u001b[1;33m\u001b[0m\u001b[0m\n",
      "\u001b[1;31mTypeError\u001b[0m: 'builtin_function_or_method' object is not subscriptable"
     ]
    }
   ],
   "source": [
    "import numpy as np\n",
    "\n",
    "def vector_compare(desired_vec, test_vec):\n",
    "    \"\"\"This function compares two vectors, returning a number.\n",
    "    The test vector with the highest return value is regarded as being closest to the desired vector.\"\"\"\n",
    "    # Hint: Use transpose for the first argument of np.dot\n",
    "    # YOUR CODE HERE\n",
    "    return np.dot(np.transpose(desired_vec), test_vec)\n",
    "\n",
    "array1 = np.array(2, -2, 2, -2, -2, -2, 2, -2, 2, 2)\n",
    "array2 = np.array(1, 2, 3, 4, 5, 6, 7, 6, 5, 4)\n",
    "\n",
    "print(vector_compare(array1, array1))\n"
   ]
  },
  {
   "cell_type": "markdown",
   "metadata": {},
   "source": [
    "## Question 2: GPS Receivers"
   ]
  },
  {
   "cell_type": "code",
   "execution_count": null,
   "metadata": {
    "collapsed": true
   },
   "outputs": [],
   "source": [
    "%pylab inline\n",
    "import numpy as np\n",
    "import matplotlib.pyplot as plt\n",
    "import scipy.io\n",
    "import sys"
   ]
  },
  {
   "cell_type": "code",
   "execution_count": null,
   "metadata": {
    "collapsed": true
   },
   "outputs": [],
   "source": [
    "## RUN THIS FUNCTION BEFORE YOU START THIS PROBLEM\n",
    "## This function will generate the gold code associated with the satellite ID using linear shift registers\n",
    "## The satellite_ID can be any integer between 1 and 24\n",
    "def Gold_code_satellite(satellite_ID):\n",
    "    codelength = 1023\n",
    "    registerlength = 10\n",
    "    \n",
    "    # Defining the MLS for G1 generator\n",
    "    register1 = -1*np.ones(registerlength)\n",
    "    MLS1 = np.zeros(codelength)\n",
    "    for i in range(codelength):\n",
    "        MLS1[i] = register1[9]\n",
    "        modulo = register1[2]*register1[9]\n",
    "        register1 = np.roll(register1,1)\n",
    "        register1[0] = modulo\n",
    "    \n",
    "    # Defining the MLS for G2 generator\n",
    "    register2 = -1*np.ones(registerlength)\n",
    "    MLS2 = np.zeros(codelength)\n",
    "    for j in range(codelength):\n",
    "        MLS2[j] = register2[9]\n",
    "        modulo = register2[1]*register2[2]*register2[5]*register2[7]*register2[8]*register2[9]\n",
    "        register2 = np.roll(register2,1)\n",
    "        register2[0] = modulo\n",
    "    \n",
    "    delay = np.array([5,6,7,8,17,18,139,140,141,251,252,254,255,256,257,258,469,470,471,472,473,474,509,512,513,514,515,516,859,860,861,862])\n",
    "    G1_out = MLS1;\n",
    "    shamt = delay[satellite_ID - 1]\n",
    "    G2_out = np.roll(MLS2,shamt)\n",
    "    \n",
    "    CA_code = G1_out * G2_out\n",
    "    \n",
    "    return CA_code"
   ]
  },
  {
   "cell_type": "markdown",
   "metadata": {},
   "source": [
    "### Part (a)"
   ]
  },
  {
   "cell_type": "code",
   "execution_count": null,
   "metadata": {
    "collapsed": true
   },
   "outputs": [],
   "source": [
    "def array_correlation(array1, array2):\n",
    "    \"\"\" This function should return two arrays or a matrix with one row corresponding to \n",
    "    the offset and other to the correlation value\n",
    "    \"\"\"\n",
    "    ## YOUR CODE HERE\n",
    "    ## Use np.correlate with \"FULL\". Check out the documentation page.\n",
    "    \n",
    "# Plot the auto-correlation of satellite 10 with itself. Your signal should be centered\n",
    "# at offset = 0.\n",
    "# Use plt.plot or plt.stem to plot.\n",
    "\n",
    "# YOUR CODE HERE"
   ]
  },
  {
   "cell_type": "markdown",
   "metadata": {},
   "source": [
    "### Part (b)"
   ]
  },
  {
   "cell_type": "code",
   "execution_count": null,
   "metadata": {
    "collapsed": true
   },
   "outputs": [],
   "source": [
    "# YOUR CODE HERE"
   ]
  },
  {
   "cell_type": "markdown",
   "metadata": {},
   "source": [
    "### Part (c)"
   ]
  },
  {
   "cell_type": "code",
   "execution_count": null,
   "metadata": {
    "collapsed": true
   },
   "outputs": [],
   "source": [
    "## THIS IS A HELPER FUNCTION FOR PART C\n",
    "def integernoise_generator(length_of_noise):\n",
    "    noise_array = np.random.randint(2, size = length_of_noise)\n",
    "    noise_array = 2 * noise_array - np.ones(size(noise_array))\n",
    "    return noise_array\n",
    "\n",
    "# YOUR CODE HERE"
   ]
  },
  {
   "cell_type": "markdown",
   "metadata": {},
   "source": [
    "### Part (d)"
   ]
  },
  {
   "cell_type": "code",
   "execution_count": null,
   "metadata": {
    "collapsed": true
   },
   "outputs": [],
   "source": [
    "## THIS IS A HELPER FUNCTION FOR PART D\n",
    "def gaussiannoise_generator(length_of_noise):\n",
    "    noise_array = np.random.normal(0, 1, length_of_noise)\n",
    "    return noise_array\n",
    "\n",
    "# YOUR CODE HERE"
   ]
  },
  {
   "cell_type": "markdown",
   "metadata": {},
   "source": [
    "### Part (e)"
   ]
  },
  {
   "cell_type": "code",
   "execution_count": null,
   "metadata": {
    "collapsed": true
   },
   "outputs": [],
   "source": [
    "## USE 'np.load' FUNCTION TO LOAD THE DATA\n",
    "## USE DATA1.NPY AS THE SIGNAL ARRAY\n",
    "\n",
    "# YOUR CODE HERE"
   ]
  },
  {
   "cell_type": "markdown",
   "metadata": {},
   "source": [
    "### Part (f)"
   ]
  },
  {
   "cell_type": "code",
   "execution_count": null,
   "metadata": {
    "collapsed": true
   },
   "outputs": [],
   "source": [
    "## USE DATA2.NPY AS THE SIGNAL ARRAY\n",
    "\n",
    "# YOUR CODE HERE"
   ]
  },
  {
   "cell_type": "markdown",
   "metadata": {},
   "source": [
    "### Part (g)"
   ]
  },
  {
   "cell_type": "code",
   "execution_count": null,
   "metadata": {
    "collapsed": true
   },
   "outputs": [],
   "source": [
    "## USE DATA3.NPY AS THE SIGNAL ARRAY\n",
    "\n",
    "# YOUR CODE HERE"
   ]
  },
  {
   "cell_type": "markdown",
   "metadata": {},
   "source": [
    "## Question 3: Finding Signals in Noise"
   ]
  },
  {
   "cell_type": "code",
   "execution_count": null,
   "metadata": {
    "collapsed": true
   },
   "outputs": [],
   "source": [
    "%matplotlib inline\n",
    "import numpy as np\n",
    "import scipy as sp\n",
    "import scipy.linalg as la\n",
    "import pylab as plt\n",
    "import numpy.random"
   ]
  },
  {
   "cell_type": "code",
   "execution_count": null,
   "metadata": {
    "collapsed": true
   },
   "outputs": [],
   "source": [
    "N = 1000\n",
    "\n",
    "def rand_vector(n): # returns a random {+1, -1} vector of length n\n",
    "    return np.random.randint(2, size=n)*2 - 1.0\n",
    "\n",
    "def rand_normed_vector(n): # returns a random normalized vector of length n\n",
    "    x = rand_vector(n)\n",
    "    return x / la.norm(x)\n",
    "\n",
    "def cross_corr(f, g):\n",
    "    # returns the cross-correlation (a vector of all the inner products of 'g' with shifted versions of 'f')\n",
    "    C = la.circulant(f)\n",
    "    corr = C.T.dot(g)\n",
    "    return corr"
   ]
  },
  {
   "cell_type": "markdown",
   "metadata": {},
   "source": [
    "### Part (a)"
   ]
  },
  {
   "cell_type": "code",
   "execution_count": null,
   "metadata": {
    "collapsed": true
   },
   "outputs": [],
   "source": [
    "# Generate a random normalized vector for s1\n",
    "# Running this cell again will generate a new random vector\n",
    "s1 = rand_normed_vector(N)\n",
    "\n",
    "# Compute all the inner products of s1 with shifted versions of s1\n",
    "# (i.e., the cross-correlation of s1 with s1)\n",
    "corr = cross_corr(s1, s1)\n",
    "\n",
    "# The inner product <s1, s1^(1)> is:\n",
    "print(corr[1])\n",
    "\n",
    "# np.roll circularly shifts the signal,\n",
    "# so the above inner product could be computed as:\n",
    "print(np.dot(s1, np.roll(s1,1)))\n",
    "\n",
    "# Plot the autocorrelation:\n",
    "plt.title(\"Autocorrelation s1\")\n",
    "plt.plot(corr)\n",
    "\n",
    "x1,x2,y1,y2 = plt.axis()\n",
    "plt.axis([x1-50,x2+50,y1,y2])\n",
    "\n",
    "plt.show()"
   ]
  },
  {
   "cell_type": "markdown",
   "metadata": {},
   "source": [
    "### Part (b)"
   ]
  },
  {
   "cell_type": "code",
   "execution_count": null,
   "metadata": {
    "collapsed": true
   },
   "outputs": [],
   "source": [
    "y = np.roll(s1, 10) # Received y = s1 shifted by 10\n",
    "\n",
    "# Compute the cross-correlation (all the inner products of y with shifted versions of s1)\n",
    "corr = cross_corr(s1, y)\n",
    "\n",
    "# Plot\n",
    "plt.title(\"cross-correlation s1, y\")\n",
    "plt.plot(corr)\n",
    "\n",
    "x1,x2,y1,y2 = plt.axis()\n",
    "plt.axis([x1-50,x2+50,y1,y2])\n",
    "plt.show()\n",
    "\n",
    "# Find the index of maximum correlation (inner product)\n",
    "print(np.argmax(corr))"
   ]
  },
  {
   "cell_type": "markdown",
   "metadata": {},
   "source": [
    "### Part (c)"
   ]
  },
  {
   "cell_type": "code",
   "execution_count": null,
   "metadata": {
    "collapsed": true
   },
   "outputs": [],
   "source": [
    "# Generate a random normalized vector for s1\n",
    "# and a random normalized vector for n\n",
    "# Running this cell again will generate new random vectors\n",
    "s1 = rand_normed_vector(N)\n",
    "n = rand_normed_vector(N)\n",
    "\n",
    "print(np.abs(np.dot(s1, n)))"
   ]
  },
  {
   "cell_type": "markdown",
   "metadata": {},
   "source": [
    "### Part (d)\n",
    "\n",
    "This is the code from part (b) but with the received signal $\\vec{y}$, which is corrupted by noise."
   ]
  },
  {
   "cell_type": "code",
   "execution_count": null,
   "metadata": {
    "collapsed": true
   },
   "outputs": [],
   "source": [
    "s1 = rand_normed_vector(N)\n",
    "n = rand_normed_vector(N)\n",
    "y = np.roll(s1, 10) + 0.1*n\n",
    "\n",
    "corr = cross_corr(s1, y)\n",
    "\n",
    "plt.title(\"cross-correlation s1, y\")\n",
    "plt.plot(corr)\n",
    "\n",
    "x1,x2,y1,y2 = plt.axis()\n",
    "plt.axis([x1-50,x2+50,y1,y2])\n",
    "plt.show()\n",
    "\n",
    "# Find the index of maximum correlation (inner product)\n",
    "np.argmax(corr)"
   ]
  },
  {
   "cell_type": "markdown",
   "metadata": {},
   "source": [
    "### Part (e)\n",
    "\n",
    "Copy the code provided for part (d), but modify it appropriately, so that the noise is higher.\n",
    "You should generate two cross-correlation plots, one for each noise level in the question.\n",
    "(You can just copy the code from part (d) twice.)"
   ]
  },
  {
   "cell_type": "code",
   "execution_count": null,
   "metadata": {
    "collapsed": true
   },
   "outputs": [],
   "source": [
    "# YOUR CODE HERE"
   ]
  },
  {
   "cell_type": "markdown",
   "metadata": {},
   "source": [
    "### Part (f)"
   ]
  },
  {
   "cell_type": "code",
   "execution_count": null,
   "metadata": {
    "collapsed": true
   },
   "outputs": [],
   "source": [
    "s1 = rand_normed_vector(N)\n",
    "s2 = rand_normed_vector(N)\n",
    "\n",
    "y = np.roll(s1, 10) + np.roll(s2, 100)\n",
    "\n",
    "# Compute cross-correlations:\n",
    "corr_s1_y = cross_corr(s1, y)\n",
    "corr_s2_y = cross_corr(s2, y)\n",
    "\n",
    "# Plot cross-correlations:\n",
    "plt.title(\"cross-correlation s1, y\")\n",
    "plt.plot(cross_corr(s1, y))\n",
    "x1,x2,y1,y2 = plt.axis()\n",
    "plt.axis([x1-50,x2+50,y1,y2])\n",
    "plt.show()\n",
    "\n",
    "plt.title(\"cross-correlation s2, y\")\n",
    "plt.plot(cross_corr(s2, y))\n",
    "x1,x2,y1,y2 = plt.axis()\n",
    "plt.axis([x1-50,x2+50,y1,y2])\n",
    "plt.show()\n",
    "\n",
    "j = np.argmax(corr_s1_y) # find the first signal delay (max index of correlation)\n",
    "k = np.argmax(corr_s2_y) # find the second signal delay\n",
    "print(j, k)"
   ]
  },
  {
   "cell_type": "markdown",
   "metadata": {},
   "source": [
    "### Part (g)\n",
    "\n",
    "This is the same code as in part (f) but with a slight modification to how the received signal y generated.\n",
    "Run the below cell a few times to test for different choices of random signals."
   ]
  },
  {
   "cell_type": "code",
   "execution_count": null,
   "metadata": {
    "collapsed": true
   },
   "outputs": [],
   "source": [
    "s1 = rand_normed_vector(N)\n",
    "s2 = rand_normed_vector(N)\n",
    "\n",
    "y = np.roll(s1, 10) + 0.1*np.roll(s2, 100)\n",
    "\n",
    "# Compute cross-correlations:\n",
    "corr_s1_y = cross_corr(s1, y)\n",
    "corr_s2_y = cross_corr(s2, y)\n",
    "\n",
    "# Plot cross-correlations:\n",
    "plt.title(\"cross-correlation s1, y\")\n",
    "plt.plot(cross_corr(s1, y))\n",
    "x1,x2,y1,y2 = plt.axis()\n",
    "plt.axis([x1-50,x2+50,y1,y2])\n",
    "plt.show()\n",
    "\n",
    "plt.title(\"cross-correlation s2, y\")\n",
    "plt.plot(cross_corr(s2, y))\n",
    "x1,x2,y1,y2 = plt.axis()\n",
    "plt.axis([x1-50,x2+50,y1,y2])\n",
    "plt.show()"
   ]
  },
  {
   "cell_type": "markdown",
   "metadata": {},
   "source": [
    "### Part (h)"
   ]
  },
  {
   "cell_type": "code",
   "execution_count": null,
   "metadata": {
    "collapsed": true
   },
   "outputs": [],
   "source": [
    "corr_s1_y = cross_corr(s1, y)\n",
    "j = np.argmax(corr_s1_y) # find the first signal delay\n",
    "print(j)\n",
    "\n",
    "# Subtract out the contribution of the first signal\n",
    "y_prime = y - np.roll(s1, j)\n",
    "\n",
    "# Correlate the residual against the second signal\n",
    "corr_s2_y = cross_corr(s2, y_prime)\n",
    "\n",
    "# Plot \n",
    "plt.title(\"cross-correlation s2, y'\")\n",
    "plt.plot(corr_s2_y)\n",
    "x1,x2,y1,y2 = plt.axis()\n",
    "plt.axis([x1-50,x2+50,y1,y2])\n",
    "plt.show()\n",
    "\n",
    "k = np.argmax(corr_s2_y) # find the second signal delay by looking at the index of max correlation\n",
    "print(k)"
   ]
  },
  {
   "cell_type": "markdown",
   "metadata": {},
   "source": [
    "### Part (i)"
   ]
  },
  {
   "cell_type": "code",
   "execution_count": null,
   "metadata": {
    "collapsed": true
   },
   "outputs": [],
   "source": [
    "s1 = rand_normed_vector(N)\n",
    "s2 = rand_normed_vector(N)\n",
    "\n",
    "y = 0.7*np.roll(s1, 10) + 0.5*np.roll(s2, 100)\n",
    "\n",
    "corr_s1_y = cross_corr(s1, y)\n",
    "j = np.argmax(corr_s1_y) # find the first signal delay\n",
    "\n",
    "corr_s2_y = cross_corr(s2, y)\n",
    "k = np.argmax(corr_s2_y) # find the second signal delay\n",
    "\n",
    "print(j, k)\n",
    "\n",
    "# Once we have found the shifts, estimate the coefficients as inner products:\n",
    "a1 = np.dot(y, np.roll(s1, j))\n",
    "a2 = np.dot(y, np.roll(s2, k))\n",
    "\n",
    "print(a1, a2)"
   ]
  },
  {
   "cell_type": "markdown",
   "metadata": {},
   "source": [
    "### Part (j)\n",
    "\n",
    "This is the same code as in part (i) but with noise added to the received signal $\\vec{y}$."
   ]
  },
  {
   "cell_type": "code",
   "execution_count": null,
   "metadata": {
    "collapsed": true
   },
   "outputs": [],
   "source": [
    "s1 = rand_normed_vector(N)\n",
    "s2 = rand_normed_vector(N)\n",
    "n = rand_normed_vector(N)\n",
    "\n",
    "y = 0.7*np.roll(s1, 10) + 0.5*np.roll(s2, 100) + 0.1*n\n",
    "\n",
    "corr_s1_y = cross_corr(s1, y)\n",
    "j = np.argmax(corr_s1_y) # find the first signal delay\n",
    "\n",
    "corr_s2_y = cross_corr(s2, y)\n",
    "k = np.argmax(corr_s2_y) # find the second signal delay\n",
    "\n",
    "print(j, k)\n",
    "\n",
    "# Once we have found the shifts, estimate the coefficients as inner products:\n",
    "a1 = np.dot(y, np.roll(s1, j))\n",
    "a2 = np.dot(y, np.roll(s2, k))\n",
    "\n",
    "print(a1, a2)"
   ]
  },
  {
   "cell_type": "markdown",
   "metadata": {},
   "source": [
    "## Question 5: Image Analysis"
   ]
  },
  {
   "cell_type": "code",
   "execution_count": null,
   "metadata": {
    "collapsed": true
   },
   "outputs": [],
   "source": [
    "def plot_circle(a, d, e):\n",
    "    \"\"\"\n",
    "    You can use this function to plot circles with parameters a,d,e.\n",
    "    The parameters are described in the homework pdf. \n",
    "    \n",
    "    You can comment out the line that starts with `plt.title`\n",
    "    because this makes assumptions regarding the title of your plot.\n",
    "    \"\"\"\n",
    "    is_circle = d**2 + e**2 - 4*a > 0\n",
    "    assert is_circle, \"Not a circle\"\n",
    "    \n",
    "    XLIM_LO = -1\n",
    "    XLIM_HI = 3\n",
    "    YLIM_LO = -2\n",
    "    YLIM_HI = 2\n",
    "    X_COUNT = 400\n",
    "    Y_COUNT = 400\n",
    "    \n",
    "    x = np.linspace(XLIM_LO, XLIM_HI, X_COUNT)\n",
    "    y = np.linspace(YLIM_LO, YLIM_HI, Y_COUNT)\n",
    "    x, y = np.meshgrid(x, y)\n",
    "    f = lambda x,y: a*(x**2 + y**2) + d*x + e*y\n",
    "    \n",
    "    c1 = plt.contour(x, y, f(x,y), [1], colors='r')\n",
    "    plt.axis('scaled')\n",
    "    plt.xlabel('x')\n",
    "    plt.ylabel('y')\n",
    "    plt.title(r'${:.2f}(x^2 + y^2) {:+.2f}x {:+.2f}y$'.format(a,d,e))"
   ]
  },
  {
   "cell_type": "code",
   "execution_count": null,
   "metadata": {
    "collapsed": true
   },
   "outputs": [],
   "source": [
    "def plot_ellipse(a, b, c, d, e):\n",
    "    \"\"\"\n",
    "    You can use this function to plot ellipses with parameters a-e.\n",
    "    The parameters are described in the homework pdf. \n",
    "    \n",
    "    You can comment out the line that starts with `plt.title`\n",
    "    because this makes assumptions regarding the title of your plot.\n",
    "    \"\"\"\n",
    "    is_ellipse = b**2 - 4*a*c < 0\n",
    "    assert is_ellipse, \"Not an ellipse\"\n",
    "    \n",
    "    XLIM_LO = -1\n",
    "    XLIM_HI = 3\n",
    "    YLIM_LO = -2\n",
    "    YLIM_HI = 2\n",
    "    X_COUNT = 400\n",
    "    Y_COUNT = 400\n",
    "    \n",
    "    x = np.linspace(XLIM_LO, XLIM_HI, X_COUNT)\n",
    "    y = np.linspace(YLIM_LO, YLIM_HI, Y_COUNT)\n",
    "    x, y = np.meshgrid(x, y)\n",
    "    f = lambda x,y: a*x**2 + b*x*y + c*y**2 + d*x + e*y\n",
    "    \n",
    "    c1 = plt.contour(x, y, f(x,y), [1], colors='r')\n",
    "    plt.axis('scaled')\n",
    "    plt.xlabel('x')\n",
    "    plt.ylabel('y')\n",
    "    plt.title(r'${:.2f}x^2 {:+.2f}xy {:+.2f}y^2 {:+.2f}x {:+.2f}y$'.format(a,b,c,d,e))"
   ]
  },
  {
   "cell_type": "code",
   "execution_count": null,
   "metadata": {
    "collapsed": true
   },
   "outputs": [],
   "source": [
    "# Here is an example of plot_ellipse.\n",
    "# This plots (x-1)**2 + (y-1)**2 = 1, \n",
    "# which is a circle centered at (1,1). \n",
    "\n",
    "plt.figure(figsize=(6,6))\n",
    "plot_ellipse(1, 0, 1, -1, -1)"
   ]
  },
  {
   "cell_type": "markdown",
   "metadata": {},
   "source": [
    "You may find [plt.scatter](http://matplotlib.org/api/pyplot_api.html) useful for plotting the points."
   ]
  },
  {
   "cell_type": "markdown",
   "metadata": {
    "collapsed": true
   },
   "source": [
    "### Part (c)"
   ]
  },
  {
   "cell_type": "code",
   "execution_count": null,
   "metadata": {
    "collapsed": true
   },
   "outputs": [],
   "source": [
    "# YOUR CODE HERE"
   ]
  },
  {
   "cell_type": "markdown",
   "metadata": {
    "collapsed": true
   },
   "source": [
    "### Part (d)"
   ]
  },
  {
   "cell_type": "code",
   "execution_count": null,
   "metadata": {
    "collapsed": true
   },
   "outputs": [],
   "source": [
    "# YOUR CODE HERE"
   ]
  }
 ],
 "metadata": {
  "anaconda-cloud": {},
  "kernelspec": {
   "display_name": "Python 3",
   "language": "python",
   "name": "python3"
  },
  "language_info": {
   "codemirror_mode": {
    "name": "ipython",
    "version": 3
   },
   "file_extension": ".py",
   "mimetype": "text/x-python",
   "name": "python",
   "nbconvert_exporter": "python",
   "pygments_lexer": "ipython3",
   "version": "3.6.1"
  }
 },
 "nbformat": 4,
 "nbformat_minor": 1
}
