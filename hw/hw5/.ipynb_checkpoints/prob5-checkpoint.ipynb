{
 "cells": [
  {
   "cell_type": "markdown",
   "metadata": {},
   "source": [
    "# EE16A Homework 5"
   ]
  },
  {
   "cell_type": "markdown",
   "metadata": {},
   "source": [
    "## Question 1: Sports Rank"
   ]
  },
  {
   "cell_type": "markdown",
   "metadata": {},
   "source": [
    "In this part, we will implement the power iteration method to find the dominant eigenvector of a matrix. For the matrix in consideration the dominant eigenvector will correspond to a ranking of the top 25 teams in College football for the 2014 regular season.\n",
    "\n",
    "\n",
    "\n",
    "First we load the wins of all the teams into a matrix"
   ]
  },
  {
   "cell_type": "code",
   "execution_count": null,
   "metadata": {
    "collapsed": true
   },
   "outputs": [],
   "source": [
    "# Creating W (win) Matrix\n",
    "W=np.zeros([26,26])\n",
    "\n",
    "# Alabama\n",
    "count=0\n",
    "W[count,[7,15,18,21]]=1\n",
    "W[count,25]=8.0\n",
    "Teams={count:'ALA'}\n",
    "count=count+1\n",
    "\n",
    "# FSU\n",
    "Teams.update({count:'FSU'})\n",
    "W[1,[9,17,19]]=1\n",
    "W[1,25]=10.0\n",
    "count=count+1\n",
    "\n",
    "# Oregon\n",
    "Teams.update({count:'ORE'})\n",
    "W[2,[6,11,13,22]]=1\n",
    "W[2,25]=8.0\n",
    "count=count+1\n",
    "\n",
    "# Baylor\n",
    "Teams.update({count:'BAY'})\n",
    "W[3,[5,10]]=1\n",
    "W[3,25]=9.0\n",
    "count=count+1\n",
    "\n",
    "# OSU\n",
    "Teams.update({count:'OSU'})\n",
    "W[4,[6,16]]=1\n",
    "W[4,25]=10.0\n",
    "count=count+1\n",
    "\n",
    "# TCU\n",
    "Teams.update({count:'TCU'})\n",
    "W[5,[10]]=1\n",
    "W[5,25]=10.0\n",
    "count=count+1\n",
    "\n",
    "# MSU\n",
    "Teams.update({count:'MSU'})\n",
    "W[6,[24]]=1\n",
    "W[6,25]=9.0\n",
    "count=count+1\n",
    "\n",
    "# MSST\n",
    "Teams.update({count:'MSST'})\n",
    "W[7,[18,21]]=1\n",
    "W[7,25]=8.0\n",
    "count=count+1\n",
    "\n",
    "# MISS\n",
    "Teams.update({count:'MISS'})\n",
    "W[8,[0,7,20]]=1\n",
    "W[8,25]=6.0\n",
    "count=count+1\n",
    "\n",
    "# GT\n",
    "Teams.update({count:'GT'})\n",
    "W[9,[17,12]]=1\n",
    "W[9,25]=8.0\n",
    "count=count+1\n",
    "\n",
    "# KSU\n",
    "Teams.update({count:'KSU'})\n",
    "W[count,25]=9.0\n",
    "count=count+1\n",
    "\n",
    "# ARIZ\n",
    "Teams.update({count:'ARIZ'})\n",
    "W[count,[2,22,14]]=1\n",
    "W[count,25]=7.0\n",
    "count=count+1\n",
    "\n",
    "# UGA\n",
    "Teams.update({count:'UGA'})\n",
    "W[count,[17,15,18]]=1\n",
    "W[count,25]=6.0\n",
    "count=count+1\n",
    "\n",
    "# UCLA\n",
    "Teams.update({count:'UCLA'})\n",
    "W[count,[14,11,23]]=1\n",
    "W[count,25]=6.0\n",
    "count=count+1\n",
    "\n",
    "# ASU\n",
    "Teams.update({count:'ASU'})\n",
    "W[count,[23,22]]=1\n",
    "W[count,25]=7.0\n",
    "count=count+1\n",
    "\n",
    "# MIZZ\n",
    "Teams.update({count:'MIZZ'})\n",
    "W[count,25]=10.0\n",
    "count=count+1\n",
    "\n",
    "# WISC\n",
    "Teams.update({count:'WISC'})\n",
    "W[count,[24]]=1\n",
    "W[count,25]=9.0\n",
    "count=count+1\n",
    "\n",
    "# CLEM\n",
    "Teams.update({count:'CLEM'})\n",
    "W[count,[19]]=1\n",
    "W[count,25]=8.0\n",
    "count=count+1\n",
    "\n",
    "# AUB\n",
    "Teams.update({count:'AUB'})\n",
    "W[count,[10,8,21]]=1\n",
    "W[count,25]=5.0\n",
    "count=count+1\n",
    "\n",
    "# LOU\n",
    "Teams.update({count:'LOU'})\n",
    "W[count,25]=9.0\n",
    "count=count+1\n",
    "\n",
    "# BSU\n",
    "Teams.update({count:'BSU'})\n",
    "W[count,25]=11.0\n",
    "count=count+1\n",
    "\n",
    "# LSU\n",
    "Teams.update({count:'LSU'})\n",
    "W[count,[16,8]]=1\n",
    "W[count,25]=6.0\n",
    "count=count+1\n",
    "\n",
    "# UTAH\n",
    "Teams.update({count:'UTAH'})\n",
    "W[count,[13,23]]=1\n",
    "W[count,25]=6.0\n",
    "count=count+1\n",
    "\n",
    "\n",
    "# USC\n",
    "Teams.update({count:'USC'})\n",
    "W[count,[11]]=1\n",
    "W[count,25]=7.0\n",
    "count=count+1\n",
    "\n",
    "# NEB\n",
    "Teams.update({count:'NEB'})\n",
    "W[count,25]=9.0\n",
    "count=count+1\n",
    "\n",
    "# OTHERS\n",
    "Teams.update({count:'Others'})\n",
    "W[count,[3,4,8,13,14,15,16,18,19,20,21,22,23,24]]=1\n",
    "W[count,[9,12]]=2"
   ]
  },
  {
   "cell_type": "code",
   "execution_count": null,
   "metadata": {
    "collapsed": true
   },
   "outputs": [],
   "source": [
    "# Creating Q matrix (accounts for normalization by games played)\n",
    "\n",
    "numrows,numcols=W.shape\n",
    "Q=np.zeros([numrows,numcols])\n",
    "\n",
    "for j in range(0,numrows):\n",
    "    Q[j,:]=W[j,:]/(np.sum(W[:,j])+np.sum(W[j,:])) # sum over column j plus sum over row j is games played by team j"
   ]
  },
  {
   "cell_type": "markdown",
   "metadata": {},
   "source": [
    "As we discussed earlier the power iteration method can be used to find the dominant eigenvector of a matrix $Q$. If we denote the dominant eigenvector as $\\vec{v_D}$ then we showed that for almost any vector $\\vec{b}$, $\\lim_{n\\to\\infty}  \\frac{Q^n\\vec{b}}{|Q^n\\vec{b}|}=\\frac{c_1\\vec{v}_D}{|c\\vec{v}_D|}$, where $c$ is a nonzero constant. For numerical reasons, it is better to perform this method iteratively: Take the sequance $\\vec{b}_{k+1}=\\frac{Q\\vec{b_k}}{|Q\\vec{b_k}|}$ with $\\vec{b}_0=\\vec{b}$, in the limit it  converges to $\\frac{c_1\\vec{v}_D}{|c_1\\vec{v}_D|}$, i.e.$\\lim_{n\\to\\infty}\\vec{b}_n=\\frac{c\\vec{v}_D}{||c_1\\vec{v}_D||}$. This iterative procedure is precisely the power iteration method.\n",
    "\n",
    "In the next block you will implement the power iteration method. The b vector has already been intialized for you, all you need to do is update it in the for loop, $\\vec{b} \\leftarrow \\frac{Q\\vec{b}}{|Q\\vec{b}|}$. The following functions might be useful:\n",
    "np.dot(A,x) - takes a matrix A and multiplies it by a vector x\n",
    "and np.linalg.norm(x) - returns the norm of a vector x."
   ]
  },
  {
   "cell_type": "code",
   "execution_count": null,
   "metadata": {
    "collapsed": true
   },
   "outputs": [],
   "source": [
    "# Power Iteration Method\n",
    "\n",
    "# Initializing b\n",
    "b = np.ones(numrows)\n",
    "\n",
    "for j in range(0,500):\n",
    "    # Your code goes here\n",
    "    \n",
    "# Don't forget to do this\n",
    "# Set v_D equal to your result\n",
    "    \n",
    "v_D=b"
   ]
  },
  {
   "cell_type": "code",
   "execution_count": null,
   "metadata": {
    "collapsed": true
   },
   "outputs": [],
   "source": [
    "# Create rankings\n",
    "\n",
    "v_D=np.absolute(v_D)\n",
    "indices=np.argsort(v_D)\n",
    "ratings=np.sort(v_D)\n",
    "indices=indices[25::-1]\n",
    "\n",
    "ratings=ratings[25::-1]\n",
    "\n",
    "# Printing teams (in order) and their score\n",
    "print('Team','Score')\n",
    "for j in range(0,26):\n",
    "    print(Teams[indices[j]], ratings[j])"
   ]
  },
  {
   "cell_type": "markdown",
   "metadata": {},
   "source": [
    "## Question 3: Image Compression"
   ]
  },
  {
   "cell_type": "code",
   "execution_count": null,
   "metadata": {
    "collapsed": true
   },
   "outputs": [],
   "source": [
    "%pylab inline"
   ]
  },
  {
   "cell_type": "code",
   "execution_count": null,
   "metadata": {
    "collapsed": true
   },
   "outputs": [],
   "source": [
    "import numpy as np\n",
    "from scipy import ndimage as nd\n",
    "from scipy import misc\n",
    "from scipy import io\n",
    "from matplotlib import path"
   ]
  },
  {
   "cell_type": "markdown",
   "metadata": {},
   "source": [
    "### Part b)"
   ]
  },
  {
   "cell_type": "code",
   "execution_count": null,
   "metadata": {
    "collapsed": true
   },
   "outputs": [],
   "source": [
    "# Load Pattern Image\n",
    "pattern = np.load('pattern.npy')\n",
    "plt.imshow(pattern, cmap='gray', interpolation='nearest')"
   ]
  },
  {
   "cell_type": "markdown",
   "metadata": {},
   "source": [
    "Use the command [shape](http://docs.scipy.org/doc/numpy/reference/generated/numpy.ndarray.shape.html) to find the dimensions of the image. How many eigenvalues do you expect? \n",
    "\n",
    "Run the code below to find the eigenvector and eigenvalues of ``pattern`` and sort them in descending order (first eigenvalue/vector corresponds to the largest eigenvalue)"
   ]
  },
  {
   "cell_type": "code",
   "execution_count": null,
   "metadata": {
    "collapsed": true
   },
   "outputs": [],
   "source": [
    "eig_vals, eig_vectors = np.linalg.eig(pattern)\n",
    "idx = (abs(eig_vals).argsort())\n",
    "idx = idx[::-1]\n",
    "eig_vals = eig_vals[idx]\n",
    "eig_vectors = eig_vectors[:,idx] "
   ]
  },
  {
   "cell_type": "markdown",
   "metadata": {},
   "source": [
    "### Part c)\n",
    "\n",
    "Find the pattern approximation using 100 largest eigenvalues/eigenvectors.\n",
    "\n",
    "* Index into above variables to choose the first 100 eigenvalues and eigenvectors.\n",
    "* You can use the command [np.outer](http://docs.scipy.org/doc/numpy/reference/generated/numpy.outer.html) to find the outer product of two vectors"
   ]
  },
  {
   "cell_type": "code",
   "execution_count": null,
   "metadata": {
    "collapsed": true
   },
   "outputs": [],
   "source": [
    "rank = 100\n",
    "S = np.zeros(pattern.shape)\n",
    "for i in range(rank):\n",
    "    vec_i = eig_vectors[:,i]  # i-th largest eigenvector\n",
    "    val_i = eig_vals[i]       # i-th largest eigenvalue\n",
    "    S += # Your Code Here\n",
    "    \n",
    "plt.imshow(S, cmap='gray', vmin=0, vmax=255)"
   ]
  },
  {
   "cell_type": "markdown",
   "metadata": {},
   "source": [
    "### Part d)\n",
    "Find the pattern approximation using 50 largest eigenvalues/eigenvectors.\n"
   ]
  },
  {
   "cell_type": "code",
   "execution_count": null,
   "metadata": {
    "collapsed": true
   },
   "outputs": [],
   "source": [
    "rank = 50\n",
    "S = np.zeros(pattern.shape)\n",
    "for i in range(rank):\n",
    "    vec_i = eig_vectors[:,i]  # i-th largest eigenvector\n",
    "    val_i = eig_vals[i]       # i-th largest eigenvalue\n",
    "    S += # Your Code Here\n",
    "    \n",
    "plt.imshow(S, cmap='gray', vmin=0, vmax=255)"
   ]
  },
  {
   "cell_type": "markdown",
   "metadata": {},
   "source": [
    "## Question 4: Noisy Images"
   ]
  },
  {
   "cell_type": "code",
   "execution_count": 1,
   "metadata": {
    "collapsed": true
   },
   "outputs": [],
   "source": [
    "import numpy as np\n",
    "import matplotlib.pyplot as plt\n",
    "%matplotlib inline"
   ]
  },
  {
   "cell_type": "code",
   "execution_count": 2,
   "metadata": {},
   "outputs": [
    {
     "data": {
      "text/plain": [
       "<matplotlib.image.AxesImage at 0x1fd71b6b9e8>"
      ]
     },
     "execution_count": 2,
     "metadata": {},
     "output_type": "execute_result"
    },
    {
     "data": {
      "image/png": "[encoded data removed]",
      "text/plain": [
       "<matplotlib.figure.Figure at 0x1fd6f5daa20>"
      ]
     },
     "metadata": {},
     "output_type": "display_data"
    },
    {
     "data": {
      "image/png": "[encoded data removed]",
      "text/plain": [
       "<matplotlib.figure.Figure at 0x1fd711d1cc0>"
      ]
     },
     "metadata": {},
     "output_type": "display_data"
    },
    {
     "data": {
      "image/png": "[encoded data removed]",
      "text/plain": [
       "<matplotlib.figure.Figure at 0x1fd7191f438>"
      ]
     },
     "metadata": {},
     "output_type": "display_data"
    },
    {
     "data": {
      "image/png": "[encoded data removed]",
      "text/plain": [
       "<matplotlib.figure.Figure at 0x1fd71980c50>"
      ]
     },
     "metadata": {},
     "output_type": "display_data"
    }
   ],
   "source": [
    "# Let's load some data to start off with.\n",
    "A3 = np.loadtxt(\"cond_10e6.txt\", delimiter=',').reshape(100,100)\n",
    "A2 = np.loadtxt(\"cond_1e3.txt\", delimiter=',').reshape(100,100)\n",
    "A1 = np.eye(100)\n",
    "img = np.loadtxt(\"image.txt\", delimiter=',').reshape(10,10)\n",
    "\n",
    "# The code below displays the image and the set of masks.\n",
    "plt.figure(0)\n",
    "plt.imshow(img,cmap='gray')\n",
    "plt.figure(1)\n",
    "plt.imshow(A1,cmap='gray')\n",
    "plt.figure(2)\n",
    "plt.imshow(A2,cmap='gray')\n",
    "plt.figure(3)\n",
    "plt.imshow(A3,cmap='gray')"
   ]
  },
  {
   "cell_type": "code",
   "execution_count": 3,
   "metadata": {
    "collapsed": true
   },
   "outputs": [],
   "source": [
    "# We'll use numpy.random to make some noise.\n",
    "noise = np.random.normal(0.5,0.1)\n",
    "\n",
    "# Lets compute the b vector for each matrix and add some noise to the b vector.\n",
    "b1 = A1.dot(img.reshape(100)) + noise\n",
    "b2 = A2.dot(img.reshape(100)) + noise\n",
    "b3 = A3.dot(img.reshape(100)) + noise"
   ]
  },
  {
   "cell_type": "code",
   "execution_count": 4,
   "metadata": {},
   "outputs": [
    {
     "name": "stdout",
     "output_type": "stream",
     "text": [
      "Is the matrix invertible? True\n",
      "The smallest eigenvalue is: 1.0\n",
      "Number of eigenvectors: 100\n"
     ]
    },
    {
     "data": {
      "text/plain": [
       "<matplotlib.image.AxesImage at 0x1fd71d5ec88>"
      ]
     },
     "execution_count": 4,
     "metadata": {},
     "output_type": "execute_result"
    },
    {
     "data": {
      "image/png": "[encoded data removed]",
      "text/plain": [
       "<matplotlib.figure.Figure at 0x1fd71958fd0>"
      ]
     },
     "metadata": {},
     "output_type": "display_data"
    }
   ],
   "source": [
    "# First, let's compute x1 after adding noise and find the minimum eigenvalue of A1.\n",
    "x1 = np.linalg.inv(A1).dot(b1)\n",
    "eigenvalues1 = np.linalg.eig(A1)[0]\n",
    "print(\"Is the matrix invertible?\", abs(np.linalg.det(A1)) > 0.5)\n",
    "print(\"The smallest eigenvalue is:\", min(np.absolute(eigenvalues1)))\n",
    "print(\"Number of eigenvectors:\", len(eigenvalues1))\n",
    "plt.imshow(x1.reshape(10,10), cmap='gray')"
   ]
  },
  {
   "cell_type": "code",
   "execution_count": 5,
   "metadata": {},
   "outputs": [
    {
     "name": "stdout",
     "output_type": "stream",
     "text": [
      "Is the matrix invertible? True\n",
      "The smallest eigenvalue is: 0.295163633086\n",
      "Number of eigenvectors: 100\n"
     ]
    },
    {
     "data": {
      "text/plain": [
       "<matplotlib.image.AxesImage at 0x1fd71ddaf60>"
      ]
     },
     "execution_count": 5,
     "metadata": {},
     "output_type": "execute_result"
    },
    {
     "data": {
      "image/png": "[encoded data removed]",
      "text/plain": [
       "<matplotlib.figure.Figure at 0x1fd71acfa20>"
      ]
     },
     "metadata": {},
     "output_type": "display_data"
    }
   ],
   "source": [
    "# Now let's compute x2 and find the minimum eigenvalue of A2.\n",
    "x2 = np.linalg.inv(A2).dot(b2)\n",
    "eigenvalues2 = np.linalg.eig(A2)[0]\n",
    "print(\"Is the matrix invertible?\", abs(np.linalg.det(A2)) > 0.5)\n",
    "print(\"The smallest eigenvalue is:\", min(np.absolute(eigenvalues2)))\n",
    "print(\"Number of eigenvectors:\", len(eigenvalues2))\n",
    "plt.imshow(x2.reshape(10,10), cmap='gray')"
   ]
  },
  {
   "cell_type": "code",
   "execution_count": 6,
   "metadata": {},
   "outputs": [
    {
     "name": "stdout",
     "output_type": "stream",
     "text": [
      "Is the matrix invertible? True\n",
      "The smallest eigenvalue is: 1.21842175227e-05\n",
      "Number of eigenvectors: 100\n"
     ]
    },
    {
     "data": {
      "text/plain": [
       "<matplotlib.image.AxesImage at 0x1fd74390cf8>"
      ]
     },
     "execution_count": 6,
     "metadata": {},
     "output_type": "execute_result"
    },
    {
     "data": {
      "image/png": "[encoded data removed]",
      "text/plain": [
       "<matplotlib.figure.Figure at 0x1fd71d98160>"
      ]
     },
     "metadata": {},
     "output_type": "display_data"
    }
   ],
   "source": [
    "# Now let's compute x3 and find the minimum eigenvalue of A3.\n",
    "x3 = np.linalg.inv(A3).dot(b3)\n",
    "eigenvalues3 = np.linalg.eig(A3)[0]\n",
    "print(\"Is the matrix invertible?\", abs(np.linalg.det(A3)) > 0.5)\n",
    "print(\"The smallest eigenvalue is:\", min(np.absolute(eigenvalues3)))\n",
    "print(\"Number of eigenvectors:\", len(eigenvalues3))\n",
    "plt.imshow(x3.reshape(10,10), cmap='gray')"
   ]
  },
  {
   "cell_type": "markdown",
   "metadata": {},
   "source": [
    "## (PRACTICE) Question 8: Can you Hear the Shape of a Drum?"
   ]
  },
  {
   "cell_type": "markdown",
   "metadata": {},
   "source": [
    "We have seen that the PageRank Problem is defined in the form $A \\vec{v} = \\lambda \\vec{v}$, where the transition of users from web page to web page reaches a steady state: even though the matrix $A$ re-distributes users to some new sites, the number of users on each web page doesn't change. In general, this represents a class of problems that are important in disciplines that require modeling. \n",
    "\n",
    "In the PageRank problem, the state $\\vec{v}$ tells you how many users there are on each site at a particular time, and $\\lambda$ tells you the score for each page. When you use the ($A \\vec{v} = \\lambda \\vec{v}$) format for vibrational modes of a string or a membrane, the state $\\vec{v}$ tells you how much displacement there is at a particular location on the object, and $\\lambda$ tells you how much energy there is in that particular vibrational mode described by $\\vec{v}$. \n",
    "\n",
    "This notebook will help you construct the matrix $A$ given some geometry, and then you will write a small amount of code to solve the problem $A \\vec{v} = \\lambda \\vec{v}$ for $\\lambda$ and $\\vec{v}$."
   ]
  },
  {
   "cell_type": "markdown",
   "metadata": {},
   "source": [
    "## Define Some Helper Functions"
   ]
  },
  {
   "cell_type": "markdown",
   "metadata": {},
   "source": [
    "You will need to make edits to two functions below: **<code>construct_1D_FDE</code>** and **<code>construct_2DSquare_FDE</code>**. \n",
    "\n",
    "**<code>construct_1D_FDE(l, N)</code>**: This function should take in two variables (<code>l</code>, the length of a string; <code>N</code>, the number of points on the string to model, including the anchor points) and output a matrix, $A$, which describes the 3-point finite difference model of the vibration of the string. $A$ should be $(N-2) \\times (N-2)$.\n",
    "\n",
    "Reminder: the 3-point difference formula is $$\\frac{d^2 u}{dx^2} \\approx \\frac{u(x+h)-2u(x)+u(x-h)}{h^2}$$\n",
    "\n",
    "**<code>construct_2DSquare_FDE(l, N)</code>**: This function should take in two variables (<code>l</code>, the side-length of a square membrane; <code>N</code>, the number of points on one side of a membrane to model, including the anchor points) and output a matrix, $A$, which describes the 5-point finite difference model of the vibration of the membrane. $A$ should be $(N-2)^2 \\times (N-2)^2$.\n",
    "\n",
    "Reminder: the 5-point difference formula is $$ \\nabla^2 u(x,y) = \\frac{\\partial^2 u}{\\partial x^2} + \\frac{\\partial^2 u}{\\partial y^2} \\approx \\frac{u(x+h,y) + u(x,y+h)-4u(x,y) + u(x,y-h)+ u(x-h,y)}{h^2}$$"
   ]
  },
  {
   "cell_type": "code",
   "execution_count": null,
   "metadata": {
    "collapsed": true
   },
   "outputs": [],
   "source": [
    "def construct_1D_FDE(l, N):\n",
    "    # l = length of a string\n",
    "    # N = number of points on a string\n",
    "    ######## STUDENT: write code to generate matrix, A\n",
    "\n",
    "    ######## END STUDENT EDITS\n",
    "    return A;"
   ]
  },
  {
   "cell_type": "code",
   "execution_count": null,
   "metadata": {
    "collapsed": true
   },
   "outputs": [],
   "source": [
    "def construct_2DSquare_FDE(l,N):\n",
    "    # l = sidelength of a square\n",
    "    # N = number of points on a side\n",
    "    ######## STUDENT: write code to generate matrix, A\n",
    "\n",
    "    ######## END STUDENT EDITS\n",
    "    \n",
    "    ######## Do not edit the section below\n",
    "    G = arange((N-2)*(N-2))+1;\n",
    "    G = np.reshape(G,(N-2,N-2)).T;\n",
    "    G = np.c_[zeros((N-2,1)),G,zeros((N-2,1))]\n",
    "    G = np.r_[zeros((1,N)),G,zeros((1,N))]\n",
    "    ######## Do not edit the section above\n",
    "\n",
    "    return [A,G]"
   ]
  },
  {
   "cell_type": "markdown",
   "metadata": {},
   "source": [
    "**The helper functions <code>numgrid</code> and <code>delsq</code> do not need to be edited.** They will be used to automatically generate the $A$ matrix for more arbitrary geometries than strings or squares. They are adapted from MATLAB developer Cleve Moler."
   ]
  },
  {
   "cell_type": "code",
   "execution_count": null,
   "metadata": {
    "collapsed": true
   },
   "outputs": [],
   "source": [
    "def delsq(G):\n",
    "    # Do not edit.\n",
    "    \"\"\"\n",
    "    DELSQ  Construct five-point finite difference Laplacian.\n",
    "    delsq(G) is the sparse form of the two-dimensional,\n",
    "    5-point discrete negative Laplacian on the grid G.\n",
    "    adapted from  C. Moler, 7-16-91.\n",
    "    Copyright (c) 1984-94 by The MathWorks, Inc.\n",
    "    \"\"\"\n",
    "    [m,n] = G.shape\n",
    "    # Indices of interior points\n",
    "    G1 = G.flatten()\n",
    "    p = np.where(G1)[0]\n",
    "    N = len(p)\n",
    "    # Connect interior points to themselves with 4's.\n",
    "    i = G1[p]-1\n",
    "    j = G1[p]-1\n",
    "    s = 4*np.ones(p.shape)\n",
    "\n",
    "    # for k = north, east, south, west\n",
    "    for k in [-1, m, 1, -m]:\n",
    "       # Possible neighbors in k-th direction\n",
    "       Q = G1[p+k]\n",
    "       # Index of points with interior neighbors\n",
    "       q = np.where(Q)[0]\n",
    "       # Connect interior points to neighbors with -1's.\n",
    "       i = np.concatenate([i, G1[p[q]]-1])\n",
    "       j = np.concatenate([j,Q[q]-1])\n",
    "       s = np.concatenate([s,-np.ones(q.shape)])\n",
    "    # sparse matrix with 5 diagonals\n",
    "    A = zeros((N,N));\n",
    "    for ind in range(0,i.shape[0]-1):\n",
    "        A[i[ind],j[ind]] = s[ind];\n",
    "    return A"
   ]
  },
  {
   "cell_type": "markdown",
   "metadata": {},
   "source": [
    "**The helper functions <code>plotDrumMode</code> and <code>points_in_drum</code> do not need to be edited.** They will be used to visualize the vibrational modes of a membrane once you've solved the eigenvalue problem."
   ]
  },
  {
   "cell_type": "code",
   "execution_count": null,
   "metadata": {
    "collapsed": true
   },
   "outputs": [],
   "source": [
    "def plotDrumMode(V,modeNum,G,xx,yy):\n",
    "    # Do not edit.\n",
    "    numberOfPoints_x = xx.shape[0];\n",
    "    numberOfPoints_y = yy.shape[0];\n",
    "    V_n = V[:,modeNum];\n",
    "    a_n = zeros_like(xx);\n",
    "    for i in range(0,numberOfPoints_x-1):\n",
    "        for j in range(0,numberOfPoints_y-1):\n",
    "            V_ind = G[i,j]-1;\n",
    "            if (V_ind >= 0)&(V_ind < V_n.shape[0]):\n",
    "                a_n[i,j] = V_n[int(V_ind)]\n",
    "            else:\n",
    "                a_n[i,j] = 0;\n",
    "    plt.figure(figsize=(5,5))\n",
    "    CS = plt.contour(xx, yy, a_n)"
   ]
  },
  {
   "cell_type": "code",
   "execution_count": null,
   "metadata": {
    "collapsed": true
   },
   "outputs": [],
   "source": [
    "def points_in_drum(xx,yy,drumPath):\n",
    "    # Do not edit.\n",
    "    h = xx[0,1]-xx[0,0];\n",
    "    positions = np.vstack([xx.ravel(), yy.ravel()])\n",
    "    positionBooleanIn = drumPath.contains_points(positions.T,transform=None,radius=-0.000000000000001)\n",
    "    positionBooleanOnIn = drumPath.contains_points(positions.T,transform=None,radius=0.000000000000001)\n",
    "    pointsInPolygon = positions.T[positionBooleanIn]/h;\n",
    "    pointsOnPolygon = positions.T[positionBooleanOnIn^positionBooleanIn]/h;\n",
    "    G = np.zeros(xx.shape,dtype=np.int)\n",
    "    for i in range(pointsInPolygon.shape[0]):\n",
    "        G[int(pointsInPolygon[i,0]),int(pointsInPolygon[i,1])] = i+1;\n",
    "        \n",
    "    return [pointsInPolygon,pointsOnPolygon,G]"
   ]
  },
  {
   "cell_type": "code",
   "execution_count": null,
   "metadata": {
    "collapsed": true
   },
   "outputs": [],
   "source": [
    "def construct_2DPolygon_FDE(gridDensity,gridLength,drum_path):\n",
    "    # Do not edit.\n",
    "    N = gridDensity*gridLength;\n",
    "    h = 1.0/gridDensity;\n",
    "    x = linspace(0,gridLength,N+1);\n",
    "    xx,yy = meshgrid(x,x);\n",
    "    [pointsInPolygon,pointsOnPolygon,G] = points_in_drum(xx,yy,drum_path);\n",
    "    A_drum = delsq(G)/(h**2)\n",
    "    return [A_drum,G]"
   ]
  },
  {
   "cell_type": "markdown",
   "metadata": {},
   "source": [
    "## Parts a) - d)\n",
    "Use the <code>construct_1D_FDE</code> helper function to generate the matrix $A$ for a string length of 1 and 50 model points. Then use an eigenvalue solver to find the eigenvalues and eigenvectors for $A$. (You can use functions built into the <code>linalg</code> library to do this. I suggest the <code>eigh</code> function.)"
   ]
  },
  {
   "cell_type": "code",
   "execution_count": null,
   "metadata": {
    "collapsed": true
   },
   "outputs": [],
   "source": [
    "stringLength = 1.0; # play with this value\n",
    "numberOfPoints = 50; # play with this value\n",
    "h = stringLength/(numberOfPoints-1);\n",
    "x = arange(numberOfPoints)*h;\n",
    "\n",
    "A = construct_1D_FDE(stringLength,numberOfPoints);\n",
    "# hint: if you implemented this code correctly, when stringLength=1.0 and numberOfPoints=5,\n",
    "# you should get the 3x3 matrix that part a) asks for."
   ]
  },
  {
   "cell_type": "code",
   "execution_count": null,
   "metadata": {
    "collapsed": true
   },
   "outputs": [],
   "source": [
    "# Solution to the eigenvalue problem:\n",
    "##### Student utilize solver here.\n",
    "[evals,evecs] = ;\n",
    "# evecs = matrix whose columns are the eigenvectors of A\n",
    "# evals = vector whose columns are the eigenvalues of A corresponding to the columns of evecs"
   ]
  },
  {
   "cell_type": "code",
   "execution_count": null,
   "metadata": {
    "collapsed": true
   },
   "outputs": [],
   "source": [
    "# Plot the first and last eigenvectors\n",
    "first_evec = evecs[:,0]\n",
    "last_evec = evecs[:,-1]\n",
    "first_eval = evals[0]\n",
    "last_eval = evals[-1]\n",
    "\n",
    "x = arange(numberOfPoints)*h;\n",
    "\n",
    "plt.figure(figsize=(7,7))\n",
    "plt.plot(x,np.r_[0,first_evec,0],'r-o');\n",
    "plt.plot(x,np.r_[0,last_evec,0],'b-o');"
   ]
  },
  {
   "cell_type": "markdown",
   "metadata": {},
   "source": [
    "## Part g)\n",
    "Use the <code>construct_2DSquare_FDE</code> helper function to generate the matrix $A$ for a square membrane with side-length of 1 and 50 points along a side. Then use an eigenvalue solver to find the eigenvalues and eigenvectors for $A$. (Use the same eigenvalue solver you used above.) There is a little extra code to generate a matrix, G, which will be used to plot the results. You don't need to modify this code to get your solution working. "
   ]
  },
  {
   "cell_type": "code",
   "execution_count": null,
   "metadata": {
    "collapsed": true
   },
   "outputs": [],
   "source": [
    "sidelength = 1.0; # play with this value\n",
    "numberOfPoints = 50; # play with this value\n",
    "\n",
    "x = linspace(0,sidelength,numberOfPoints) # Do not edit\n",
    "[xx,yy] = meshgrid(x,x); # Do not edit\n",
    "\n",
    "[A_squareDrum,G] = construct_2DSquare_FDE(sidelength,numberOfPoints); # calls the helper function you defined above.\n",
    "\n",
    "######## Student: implement eigen-solution here to find eigen values of A_squareDrum\n",
    "[D,V] = ;\n",
    "# V = matrix whose columns are the eigenvectors of A_squareDrum\n",
    "# D = vector whose columns are the eigenvalues of A_squareDrum corresponding to the columns of V"
   ]
  },
  {
   "cell_type": "markdown",
   "metadata": {},
   "source": [
    "The <code>plotDrumMode</code> function takes your eigenvectors (formatted as column vectors; if you use <code>[D,V] = linalg.eigh(A_squareDrum)</code>, you can pass <code>V</code>), a number corresponding to the mode you want to plot, and the variables defined in the \"do not edit\" section (<code>G</code>, <code>xx</code>, and <code>yy</code>). Plot the zero-th and first modes."
   ]
  },
  {
   "cell_type": "code",
   "execution_count": null,
   "metadata": {
    "collapsed": true
   },
   "outputs": [],
   "source": [
    "plotDrumMode(V,0,G,xx,yy)\n",
    "plotDrumMode(V,1,G,xx,yy)"
   ]
  },
  {
   "cell_type": "markdown",
   "metadata": {},
   "source": [
    "## Parts h) - i)\n",
    "Here are two polygon shapes that we will study, <code>drum1</code> and <code>drum1</code>. The variables <code>gridDensity</code> and <code>gridLength</code> describe the density of model points and the side-length of the square model grid. You can modify these values to get higher spatial resolution results, but remember that this trades off with the amount of memory and time the code needs to run!"
   ]
  },
  {
   "cell_type": "code",
   "execution_count": null,
   "metadata": {
    "collapsed": true
   },
   "outputs": [],
   "source": [
    "drum1_path = path.Path([(0,0), (1,0), (3,2), (2,2),\n",
    "              (2,3),(1,2),(1,1),(0,1),(0,0)])\n",
    "drum2_path = path.Path([(0,1), (1,0), (2,0), (2,2),\n",
    "              (3,2),(2,3),(1,2),(1,1),(0,1)])\n",
    "\n",
    "gridDensity = 5; # increase this to change the number of points in the model. More points = more time and memory, so be careful.\n",
    "gridLength = 3.0;\n",
    "\n",
    "\n",
    "[A_weirdDrum1,G1] = construct_2DPolygon_FDE(gridDensity,gridLength,drum1_path);\n",
    "[A_weirdDrum2,G2] = construct_2DPolygon_FDE(gridDensity,gridLength,drum2_path);\n",
    "\n",
    "[D1,V1] = linalg.eigh(A_weirdDrum1);\n",
    "[D2,V2] = linalg.eigh(A_weirdDrum2);"
   ]
  },
  {
   "cell_type": "code",
   "execution_count": null,
   "metadata": {
    "collapsed": true
   },
   "outputs": [],
   "source": [
    "# defining drum1 and drum2 for easy plotting of the drum shape.\n",
    "drum1 = np.array([[0, 0, 2, 2, 3, 2, 1, 1, 0],\n",
    "                  [0, 1, 3, 2, 2, 1, 1, 0, 0]]);\n",
    "drum2 = np.array([[1, 0, 0, 2, 2, 3, 2, 1, 1],\n",
    "                  [0, 1, 2, 2, 3, 2, 1, 1, 0]]);\n",
    "N = gridDensity*gridLength;\n",
    "x = linspace(0,gridLength,N+1);\n",
    "xx,yy = meshgrid(x,x);\n",
    "\n",
    "# plot a drum mode\n",
    "modeNum = 0; # play with this value to see different vibrational modes.\n",
    "plotDrumMode(V1,modeNum,G1,xx,yy)\n",
    "\n",
    "# plot the outline of the drum\n",
    "plt.plot(drum1[0,:],drum1[1,:],'b')"
   ]
  },
  {
   "cell_type": "code",
   "execution_count": null,
   "metadata": {
    "collapsed": true
   },
   "outputs": [],
   "source": [
    "# plot the drum mode\n",
    "plotDrumMode(V2,modenum,G2,xx,yy)\n",
    "\n",
    "# plot the outline of the drum\n",
    "plt.plot(drum2[0,:],drum2[1,:],'b')"
   ]
  },
  {
   "cell_type": "markdown",
   "metadata": {},
   "source": [
    "Compare the eigenvalues for the modes of the two drum shapes. These correspond to the drum pitches, or frequencies. Do the drums sound the same according to your simulation? Why or why not?"
   ]
  },
  {
   "cell_type": "code",
   "execution_count": null,
   "metadata": {
    "collapsed": true
   },
   "outputs": [],
   "source": [
    "D1"
   ]
  },
  {
   "cell_type": "code",
   "execution_count": null,
   "metadata": {
    "collapsed": true
   },
   "outputs": [],
   "source": [
    "D2"
   ]
  },
  {
   "cell_type": "markdown",
   "metadata": {},
   "source": [
    "Final student answer: "
   ]
  },
  {
   "cell_type": "markdown",
   "metadata": {},
   "source": [
    "WRITE YOUR ANSWER HERE"
   ]
  },
  {
   "cell_type": "markdown",
   "metadata": {},
   "source": [
    "For fun, you can go back and edit the drum shape paths to create differently-shaped membranes. "
   ]
  }
 ],
 "metadata": {
  "anaconda-cloud": {},
  "kernelspec": {
   "display_name": "Python 3",
   "language": "python",
   "name": "python3"
  },
  "language_info": {
   "codemirror_mode": {
    "name": "ipython",
    "version": 3
   },
   "file_extension": ".py",
   "mimetype": "text/x-python",
   "name": "python",
   "nbconvert_exporter": "python",
   "pygments_lexer": "ipython3",
   "version": "3.6.1"
  }
 },
 "nbformat": 4,
 "nbformat_minor": 1
}
