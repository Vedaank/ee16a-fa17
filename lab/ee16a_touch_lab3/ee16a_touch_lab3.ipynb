{
 "cells": [
  {
   "cell_type": "markdown",
   "metadata": {},
   "source": [
    "# Touchscreen Lab 3: Capacitive Touchscreen\n",
    "\n",
    "### EECS 16A: Designing Information Devices and Systems I, Fall 2017"
   ]
  },
  {
   "cell_type": "markdown",
   "metadata": {},
   "source": [
    "**Name 1**:\n",
    "\n",
    "**Login**: ee16a-\n",
    "\n",
    "\n",
    "**Name 2**:\n",
    "\n",
    "**Login**: ee16a-"
   ]
  },
  {
   "cell_type": "markdown",
   "metadata": {},
   "source": [
    "## Table of Contents\n",
    "* [Introduction](#overview)\n",
    "* [Task 1: Building The Touchpad](#task1)\n",
    "* [Task 2a: Understanding Charge-sharing](#task2a)\n",
    "* [Task 2b: Automatic Switching](#task2b)\n",
    "* [Task 2c: Automatic Touch Detection](#task2c)\n",
    "* [Task 2d: Touchscreen Read Circuit](#task2d)\n",
    "* [Task 3: Launchpad Control and Sensing](#task3)\n",
    "* [Task 4: Overview of the Actuation Circuit](#task4)\n",
    "    * [Task 4a: Testing the Read Circuit](#task4a)\n",
    "* [Task 5: Amplifier Background](#task5)\n",
    "* [Task 6: Adding the Speaker and the Amplifier to the Circuit](#task6)\n",
    "    * [Task 6a: Add the Amplifier](#task6a)\n",
    "    * [Task 6b: Add the Speaker](#task6b)"
   ]
  },
  {
   "cell_type": "markdown",
   "metadata": {},
   "source": [
    "<a id='instructions'></a>\n",
    "## Instructions\n",
    "* Complete this lab by filling in all of the required sections, marked with `\"YOUR CODE HERE\"` or `\"YOUR COMMENTS HERE\"`.\n",
    "* When you finish, submit a checkoff request to the Remote Checkoff System. Be ready to answer a few questions to show your understanding of each section.\n",
    "* Labs will be graded based on completion for teams of 2 students."
   ]
  },
  {
   "cell_type": "markdown",
   "metadata": {},
   "source": [
    "<a id='policies'></a>\n",
    "## Lab Policies\n",
    "* YOU MUST ATTEND THE LAB SECTION YOU ARE ENROLLED IN. If you anticipate missing a section please notify your GSI in advance.\n",
    "* You are required to return all parts checked out at the beginning of the lab section unless told otherwise.\n",
    "* You are free to stay for the allotted time and hack around with the lab equipment, but please keep the GSI's time in mind and do not work on unrelated assignments.\n",
    "* ** Food and drinks are not allowed in the lab.**\n",
    "* **Clean up, turn off all equipment, and log off of computers before leaving.**"
   ]
  },
  {
   "cell_type": "markdown",
   "metadata": {},
   "source": [
    "<a id='overview'></a>\n",
    "## <span style=\"color:blue\">Introduction - Sensing, Processing, and Actuation</span>\n",
    "\n",
    "<img src=\"img/system.png\" width=\"70%\"/>\n",
    "Most electronic systems perform 3 major tasks: (1) Sense, (2) Process, and (3) Actuate. For sensing, sensors are used to transduce physical quantities to electrical signals. Then the electrical signal is conditioned and processed. Finally, actuators are used to transform the electrical signal to physical quantities. In this lab, we will use a capacitive touchpad to sense a touch, then the signal will be processed using a combination of additional circuit elements and a Launchpad. The last step will be to play a tune from the Launchpad using a speaker when the system detects a touch. The goals of this part of the lab are to deepen your understanding of the capacitive touchscreen, amplifiers, and to present a practical use-case scenario of an amplifier circuit."
   ]
  },
  {
   "cell_type": "markdown",
   "metadata": {},
   "source": [
    "## Capacitive Touchscreen\n",
    "The resistive touchscreen you built last week is well-suited for devices using a stylus because the screen has to be deformed in order to sense a touch. Resistive touchscreens are also well suited for computer peripherals, such as keyboards, to sense button presses. However, a lot of devices don't require a stylus or a hard press; this is where capacitive touch screens save the day.\n",
    "\n",
    "This lab is intended to be completed over two lab sections, so don't worry if it looks a bit long! We've indicated where we'd hope you to get to by the end of the first lab session. Please take a photo of your breadboard layout / try to keep your breadboard together - you'll be using the same basic circuit for both lab sessions."
   ]
  },
  {
   "cell_type": "code",
   "execution_count": null,
   "metadata": {
    "collapsed": true
   },
   "outputs": [],
   "source": [
    "# Run this code to see a demo of what you can do in this lab! Credit: Thomas Rembert\n",
    "from IPython.display import YouTubeVideo\n",
    "YouTubeVideo('_qsvTPlK3B8')"
   ]
  },
  {
   "cell_type": "markdown",
   "metadata": {},
   "source": [
    "## Sensing a Touch \n",
    "\n",
    "Today, we will be implementing a capacitive touchscreen. We will build a capacitor at a junction and measure the capacitance at that point. When you touch the top copper plate, your finger adds additional capacitance between the bottom plate (ground) and your finger, resulting in two capacitors in parallel. We can measure this increase in capacitance quite easily; as we have learned, parallel capacitances add up. We can measure this change in capacitance at first with a multimeter, then a charge sharing circuit."
   ]
  },
  {
   "cell_type": "markdown",
   "metadata": {},
   "source": [
    "<a id='task1'></a>\n",
    "## <span style=\"color:blue\">Task 1: Building The Touchpad</span>\n",
    "\n",
    "#### Materials & Equipment\n",
    "* Microscope glass slide - GSI Desk\n",
    "* Two strips of copper (1 long and 1 short) - GSI Desk\n",
    "* Scotch tape (~ 2 inches) - GSI Desk\n",
    "* Wires - GSI Desk\n",
    "* Solder - GSI Desk\n",
    "* Multimeter Wires - Back wall\n",
    "\n",
    "Let's first build a capacitive touchpad from strips of copper and a glass slide. We also need a dielectric material to separate the two copper strips; the dielectric material we will be using is Scotch tape. Strip your two wires, and let's get started!\n",
    "\n",
    "To build the first layer, lay one copper strip down on the glass; **remove the white tape on the copper to expose the adhesive. Apply a layer of scotch tape on the copper exposing a bit of one side.**\n",
    "\n",
    "<center>\n",
    "\n",
    "<img src=\"img/build1.jpg\" style=\"height:300px; display:inline-block;\">\n",
    "</center>\n",
    "\n",
    "\n",
    "Place the other copper strip over the first so they are perpendicular; This layer will be on top of the first copper strip and the Scotch tape. **Remove the white tape on the copper to expose the adhesive.**\n",
    "\n",
    "<center>\n",
    "<img src=\"img/build2.jpg\" style=\"height:300px; display:inline-block;\">\n",
    "</center>\n",
    "<br/>\n",
    "\n",
    "Finally, solder wires to the exposed copper area as shown below. \n",
    "\n",
    "<center>\n",
    "<img src=\"img/build3.jpg\" style=\"height:300px; display:inline-block;\">\n",
    "</center>\n",
    "<br/>\n",
    "\n",
    "**<span style=\"color:red\">Note: Cory 125 does not have the equiment necessary to answer this question. Don't worry about doing this part and move on. If you have any conceptual question about the touchscreen's capacitance, feel free to ask any lab staff.**\n",
    "\n",
    "**Cory 140: Use the multimeter to measure the capacitance of the touchpad. Make sure to use the capacitive setting. The top pad should be connected to the red wire. Think about why this would matter. How does the capacitance change when you touch it?</span>**"
   ]
  },
  {
   "cell_type": "markdown",
   "metadata": {},
   "source": [
    "`YOUR ANSWER HERE`"
   ]
  },
  {
   "cell_type": "markdown",
   "metadata": {},
   "source": [
    "# <a id='task2a'></a>\n",
    "## <span style=\"color:blue\">Task 2a: Understanding Charge-sharing</span>\n",
    "\n",
    "The fundamental equation that relates capacitance, charge, and voltage is:\n",
    "<br/>\n",
    "\n",
    "<h3 align=\"center\">$Q=CV$</h3> \n",
    "\n",
    "Explained in words, if you put a voltage $V$ across a capacitor with capacitance $C$, a charge of $Q$ develops on each plate of the capacitor. As we learned in the last section, touching the pad changes its capacitance. Therefore, to determine if the touchpad has been touched, all we need to do is measure the charge. \n",
    "\n",
    "\n",
    "In the example below, we charge $C_{pixel}$ (which in practice will be our capacitive touchpad pixel) using the voltage rail $V_{DD}$.\n",
    "\n",
    "<img src=\"img/charge_sharing1.PNG\" align=\"center\" style=\"height:400px\">\n",
    "\n",
    "If we disconnect the top plate of $C_{pixel}$ from the voltage source, the charge is retained on each plate of $C_{pixel}$ (and will still be equal to $C_{pixel} V_{DD}$ based on our equation). If we then connect the top plate of $C_{pixel}$ to another capacitor $C_{fixed}$, we have created a pair of parallel capacitors as shown in the image below. \n",
    "\n",
    "<img src=\"img/charge_sharing2.PNG\" align=\"center\" style=\"height:400px\">\n",
    "\n",
    "As we've learned, two capacitors in parallel create a larger effective capacitance, $C_{total} = C_{pixel} + C_{fixed}$. We also know that the charge in the circuit remains constant because we did not let any charge flow into or out of the circuit. $Q = CV$ must remain true, so since $C$ increased, and $Q$ remained constant, the voltage across both of the capacitors $V_x$ must change. Depending on how large $C_{pixel}$ is, the amount of charge in the system changes."
   ]
  },
  {
   "cell_type": "markdown",
   "metadata": {},
   "source": [
    "**<span style=\"color:red\">What is the value of $V_x$ after the above steps have been taken? Your answer should be a function of $V_{DD}, C_{pixel},$ and $C_{fixed}$.**"
   ]
  },
  {
   "cell_type": "markdown",
   "metadata": {},
   "source": [
    "`YOUR ANSWER HERE`"
   ]
  },
  {
   "cell_type": "markdown",
   "metadata": {},
   "source": [
    "**<span style=\"color:red\">Rearrange your answer above and solve for $C_{pixel}$.**\n"
   ]
  },
  {
   "cell_type": "markdown",
   "metadata": {},
   "source": [
    "`YOUR ANSWER HERE`"
   ]
  },
  {
   "cell_type": "markdown",
   "metadata": {},
   "source": [
    "**Now that we have a fundamental understanding of charge sharing, we can move on to the circuit we are going to be building today. We will not build in this part. But, first go through the circuit topology to understand what the end goal is. **\n",
    "\n",
    "For this lab, we will be controlling the charging and discharging of these capacitors with a set of switches. The process is outlined below:\n",
    "<br/>\n",
    "<br/>\n",
    "### 1. Make sure both capacitors are discharged.\n",
    "We begin by connecting the Clean switch to GND to make sure both capacitors are completely discharged.\n",
    "<img src=\"img/wk3_circuit_discharge_tikz.png\" align=\"center\" style=\"height:400px\">\n",
    "\n",
    "### 2. Disconnect the short to GND used for discharging.\n",
    "Now that the capacitors are completely discharged, we can remove the connection to ground.\n",
    "<img src=\"img/wk3_circuit_stop_discharge_tikz.png\" align=\"center\" style=\"height:400px\">\n",
    "\n",
    "### 3. Charge the $C_{pixel}$ capacitor to 5V.\n",
    "Next we connect the capacitor to a voltage source and charge it to 5V.\n",
    "<img src=\"img/wk3_circuit_charge_tikz.png\" align=\"center\" style=\"height:400px\">\n",
    "\n",
    "### 4. Share charge between $C_{pixel}$ and $C_{fixed}$. \n",
    "<img src=\"img/wk3_circuit_read_tikz.png\" align=\"center\" style=\"height:400px\">"
   ]
  },
  {
   "cell_type": "markdown",
   "metadata": {},
   "source": [
    "**<span style=\"color:red\">When the drive switch is closed (OUT connected to X) after $C_{pixel}$ is charged, how much total charge $Q$ is available to the system?**"
   ]
  },
  {
   "cell_type": "markdown",
   "metadata": {},
   "source": [
    "`YOUR ANSWER HERE`"
   ]
  },
  {
   "cell_type": "markdown",
   "metadata": {},
   "source": [
    "**<span style=\"color:red\">Assuming the steps above are performed in order, given $C_{pixel} = 22pF$, calculate the voltage across the OUT pin of the Clean Switch and Ground at the end of step 4.**"
   ]
  },
  {
   "cell_type": "markdown",
   "metadata": {},
   "source": [
    "`YOUR ANSWER HERE`"
   ]
  },
  {
   "cell_type": "markdown",
   "metadata": {},
   "source": [
    "**<span style=\"color:red\">As explained above, we can model a touch as placing an additional capacitor $C_{finger}$, also connected to ground, in parallel with $C_{pixel}$. Calculate the voltage across the OUT pin of the Clean Switch and Ground at the end of step 4 for $C_{pixel} = C_{finger} = 22pF$. How do you expect this output voltage to change when you touch the screen?</span>**"
   ]
  },
  {
   "cell_type": "markdown",
   "metadata": {},
   "source": [
    "`YOUR ANSWER HERE`"
   ]
  },
  {
   "cell_type": "markdown",
   "metadata": {},
   "source": [
    "<a id='task2b'></a>\n",
    "## <span style=\"color:blue\">Task 2b: Automatic Switching</span>\n",
    "**Now we will build the capactive touchscreen circuit. The first section will go through how to use the switch controller. Then you will go through the steps to make the full circuit.**\n",
    "\n",
    "#### Materials\n",
    "* Touchpad - From 2a\n",
    "* Launchpad MSP430 - Kit\n",
    "* Breadboard - Kit\n",
    "* 22pF capacitor - Kit \n",
    "* 1 Switch Controller - Kit\n",
    "* More Wires - GSI Desk\n",
    "* Power Supply Wires - Back Wall\n",
    "* Oscilloscope Probe (don't forget to test!) - Back Wall\n",
    "\n",
    "\n",
    "Note: The 22pF capacitor looks like this. It should be round, orange, and have **\"22\"** written on it. If you do not have one that looks exactly the same, just make sure it is 22pF\n",
    "<img src=\"img/22pf.png\" align=\"center\" style=\"height:100px\">\n",
    "\n",
    "The capacitors in this circuit will discharge within a few milliseconds. Therefore, we need to automate the switching process for the touchscreen to work. In order to change the switches rapidly, we will use the CD4053BM [integrated circuit](http://en.wikipedia.org/wiki/Integrated_circuit) (IC). This chip contains 3 voltage-controlled switches.\n",
    "<br/><br/>\n",
    "Look at the images below. Each of those blue circles represents a different terminal of the switch. By using the Launchpad to rapidly change the voltage on the CTRL (control) terminal, we will change which terminal (`x` or `y`) is connected to the switch output. \n",
    "<br/><br/>\n",
    "\n",
    "When the control is a high voltage (near 5V [$V_{DD}$]), the `Y` terminal is connected to the output and `X` is left disconnected. When the control voltage is low (near 0V [GND]), `X` is connected to the output and `Y` is left disconnected. Since we always have a conduction path (the `OUT` pin is always connected to something), we can also view this switch as a two-state switch: \n",
    "\n",
    "<center>\n",
    "<img src=\"img/touch_switches.JPG\" align=\"center\" style=\"height:300px\">\n",
    "</center>\n",
    "<br/>\n",
    "\n",
    "\n",
    "The Switch Controller IC contains three of these voltage-controlled switches in a single IC unit, but we will only need two of them for the full touchscreen circuit as shown above. Below is a table of how the pins of the chip are related to the switches. Remember when mounting the switch controller to have the two sides of it mounted over the middle section of the breadboard as to not short the pins across from each other.\n",
    "\n",
    "<img src=\"img/switch_controller.png\" align=\"center\" style=\"height:400px\">\n",
    "<center><span style=\"font-size:9pt;align:center\">Additional details: http://www.ti.com/lit/ds/symlink/cd4051b.pdf</span></center>\n",
    "<br/>\n",
    "\n",
    "On top of these, pin 6 is the inhibit signal, which should always be grounded for the circuit; pins 7 and 8 are the negative power supply pins, which should also be grounded in this circuit; and pin 16 is the positive power supply pin, which should be connected to 5V. The following chart lays out the pin configuration for the IC. \n",
    "\n",
    "<br/>\n",
    "\n",
    "<center><table>\n",
    "<tr><th>Switch</th><th>X</th><th>Y</th><th>OUT</th><th>Control</th></tr>\n",
    "<tr><td>A</td><td>12</td><td>13</td><td>14</td><td>11</td></tr>\n",
    "<tr><td>B</td><td>2</td><td>1</td><td>15</td><td>10</td></tr>\n",
    "<tr><td>C</td><td>5</td><td>3</td><td>4</td><td>9</td></tr>\n",
    "</table></center>\n",
    "<br/>\n",
    "If you want to read more about this IC, <a href=\"http://inst.eecs.berkeley.edu/~ee16a/sp15/Labs/touchscreen/CD4051BC.PDF\" target=\"_blank\">here</a> is the datasheet.\n",
    "<br/>"
   ]
  },
  {
   "cell_type": "markdown",
   "metadata": {},
   "source": [
    "<h3 style=\"color:blue\">Set up the charging switch.</h3>\n",
    "\n",
    "**<span style=\"color:red\"> 1. Connect 5V from the MSP 430 Launchpad to $V_{DD}$ (pin 16) and GND to INH (pin 6), $V_{EE}$ (pin 7), and $V_{SS}$ (pin 8). </span>**\n",
    "<br/>\n",
    "Make sure the IC is oriented correctly. The small indentation on one side or corner of the chip marks the top. The top left pin is always numbered `1`, and the numbers increase counterclockwise around the chip.\n",
    "\n",
    "**<span style=\"color:red\"> 2. Next, build the circuit shown below using switch B on the switch controller chip. Note that $C_{pixel}$ refers to the touchpad from [Task 1](#task1).</span>**\n",
    "<p align=\"center\">\n",
    "** Circuit Schematic: **\n",
    "<img src=\"img/wk3_single_switch_tikz.png\" align=\"center\" style=\"height:400px\">\n",
    "** Breadboard View: **\n",
    "<img src=\"img/switch_test_bb.png\" align=\"center\" style=\"height:600px\">\n",
    "</p>\n",
    "**<span style=\"color:red\"> 3. Connect pin 6.0 of the Launchpad to Pin 10 on the switch controller chip, and connect one of the Launchpad's ground pins to the ground of the power supply. Open Energia and upload the provided `switch_test.ino` program to the Launchpad.</span>**\n",
    "\n",
    "**<span style=\"color:red\"> 4. Use the oscilloscope to measure the voltage across $C_{fixed}$ (22 pF) and zoom in to see the capacitor discharging. Does a touch give you the same behavior you solved for in [Task 2a](#task2a)?.</span>**"
   ]
  },
  {
   "cell_type": "markdown",
   "metadata": {},
   "source": [
    "`YOUR ANSWER HERE`"
   ]
  },
  {
   "cell_type": "markdown",
   "metadata": {},
   "source": [
    "<a id='task2c'></a>\n",
    "## <span style=\"color:blue\">Task 2c: Automatic Touch Detection</span>\n",
    "\n",
    "In step 4 of the circuit presented in task 2a, we must measure the output voltage against a reference to determine if the screen was touched. We will introduce what is known as a \"comparator\" to accomplish this task. The comparator, as mentioned in lecture, can be implemented using a single op-amp. \n",
    "\n",
    "### Voltage Divider at the Op Amp Output\n",
    "\n",
    "The LMC6482 will be connected to a 12V supply. We are using the 12V supply for amplification that you will set up at the very end of the lab. Since 12V is too high for the MSP 430 Launchpad, we are using a voltage divider network composed of one 10 k$\\Omega$ and one 5.1 k$\\Omega$ at the output of <strong>op-amp A</strong>. The voltage divider brings down the comparator output from 12V signal to a voltage determined by the resistors used in the voltage divider network. \n",
    "\n",
    "Our final circuit will look like this following:\n",
    "\n",
    "### 1. Make sure both capacitors are discharged.\n",
    "We begin by connecting the Clean switch to GND to make sure both capacitors are completely discharged.\n",
    "<img src=\"img/wk3_circuit_discharge_tikz_1.png\" align=\"center\" style=\"height:400px\">\n",
    "\n",
    "### 2. Disconnect the short to GND used for discharging.\n",
    "Now that the capacitors are completely discharged, we can remove the connection to ground.\n",
    "<img src=\"img/wk3_circuit_stop_discharge_tikz_1.png\" align=\"center\" style=\"height:400px\">\n",
    "\n",
    "### 3. Charge the $C_{pixel}$ capacitor to 5V.\n",
    "Next we connect the capacitor to a voltage source and charge it to 5V.\n",
    "<img src=\"img/wk3_circuit_charge_tikz_1.png\" align=\"center\" style=\"height:400px\">\n",
    "\n",
    "### 4. Share charge between $C_{pixel}$ and $C_{fixed}$. Measure the voltage against the reference to determine if the screen was touched.\n",
    "<img src=\"img/wk3_circuit_read_tikz_1.png\" align=\"center\" style=\"height:400px\">\n",
    "\n",
    "<!---\n",
    "### Put together, here is the entire process in one animation. Notice how the circuit cycles from discharging to charging to reading to resetting.\n",
    "<img src=\"img/steps_animation.gif\" align=\"center\" style=\"height:400px\">\n",
    "--->\n",
    "\n",
    "The output of the charge sharing circuit should be connected to an op-amp. The LMC6482 contains two separate op-amps as well as pins for power and ground:\n",
    "\n",
    "<img src=\"img/opamp.png\" height=\"100px\"/>\n",
    "<center><span style=\"font-size:9pt;align:center\">Additional details: http://www.ti.com/lit/ds/symlink/lmc6482.pdf</span></center>"
   ]
  },
  {
   "cell_type": "markdown",
   "metadata": {},
   "source": [
    "<a id='task2d'></a>\n",
    "## <span style=\"color:blue\">Task 2d: Touchscreen Read Circuit</span>\n",
    "\n",
    "#### Materials\n",
    "* Circuit from [Task 2b](#task2b)\n",
    "* Power Supply Wires\n",
    "* 1 operational amplifier - Kit\n",
    "* Collect 4 resistors for the GSI desk: one 10k and three 5.1k. (you will use one 10k and one 5.1k here; the other two 5.1k you'll need for [Task 6a](#task6a))\n",
    "\n",
    "**<span style=\"color:red\"> Continuing from [Task 2b](#task2b) complete the remainder of the circuit as shown in the Circuit Schematic, the Breadboard View provides a template for placing components and power connections, you will still need to connect the rest of the circuit as shown in the schematic.</span>**\n",
    "<strong style=\"color:red\">DO NOT TURN ON POWER YET, ONLY TURN ON AFTER BUILDING THE WHOLE CIRCUIT!!!</strong>.\n",
    "\n",
    "<br><br>\n",
    "\n",
    "** THIS BREADBOARD BELOW IS NOT COMPLETE. YOU NEED TO ADD MORE WIRES TO COMPLETE THIS. REFER TO THE SCHEMATIC TO HELP YOU COMPLETE THE BREADBOARD**\n",
    "\n",
    "<br><br>\n",
    "\n",
    "<p align=\"center\">\n",
    "** Circuit Schematic: **\n",
    "<img src=\"img/wk3_circuit_discharge_tikz_1.png\" align=\"center\" style=\"height:400px\">\n",
    "** Breadboard View: **\n",
    "<img src=\"img/touchscreen_read_bb.png\" align=\"center\" style=\"height:600px\">\n",
    "</p>\n",
    "\n",
    "### Power Connections\n",
    "\n",
    "**<span style=\"color:red\">Make sure the PSU Output is OFF when connecting power leads to your circuit. Additionally, make sure you connect the 12V leads to right location or you run the risk or frying your Launchpad!</span>**\n",
    "\n",
    "- Use the 5V pin from the launchpad to power the touch screen and the switching IC. \n",
    "- Use the +25V port of the power supply to power the Op Amp. **<span style=\"color:red\">Limit voltage to 12V and current to .030A. </span>**\n",
    "- Use the +6V port of the power supply to power $V_{ref}$. **<span style=\"color:red\">Limit voltage to 3V and current to .030A. </span>**"
   ]
  },
  {
   "cell_type": "markdown",
   "metadata": {},
   "source": [
    "* Use <strong>switch A as the clean switch</strong> (connect Pin 11 on the CD4053 to pin <strong>6.1</strong> of the Launchpad)\n",
    "* Connect the 10k and 5.1k resistor at the output of the op amp (pin 1). \n",
    "* Then connect pin 6.2 of the launchpad to the node connecting the two resistors. \n",
    "* Connect the LMC6482 to appropriate Power (+12V from the +25V port of the PSU) and GND (GND of the PSU) rails. \n",
    "* Use the +6V supply for the tunable reference voltage $V_{ref}$. You may need to adjust the value from what you calculated earlier. Do not forget to set the current limits on the power supply to around 30mA = .030A.\n",
    "\n",
    "**<span style=\"color:red\"> THIS IS VERY IMPORTANT MAKE SURE YOU READ THIS!!!\n",
    "The Launchpad code assumes that Pin 6.0 is hooked up to the Drive Switch control (Pin 10 on the CD4053), Pin 6.1 is connected to the Clean Switch control (Pin 11 on the CD4053), and Pin 6.2 is connected to the output of the Op-Amp (Pin 1 on the LMC6482). THE SCREEN WILL NOT WORK IF THESE PINS ARE PLACED WRONG!</span>**\n",
    "\n",
    "Here is the Switch IC schematic again for your convenience:\n",
    "<img src=\"img/switch_controller.png\" align=\"center\" style=\"height:400px\">\n",
    "<center><span style=\"font-size:9pt;align:center\">Additional details: http://www.ti.com/lit/ds/symlink/cd4051b.pdf</span></center>\n",
    "<br/>\n",
    "<center><table>\n",
    "<tr><th>Switch</th><th>X</th><th>Y</th><th>OUT</th><th>Control</th></tr>\n",
    "<tr><td>A</td><td>12</td><td>13</td><td>14</td><td>11</td></tr>\n",
    "<tr><td>B</td><td>2</td><td>1</td><td>15</td><td>10</td></tr>\n",
    "<tr><td>C</td><td>5</td><td>3</td><td>4</td><td>9</td></tr>\n",
    "</table></center>\n",
    "<br/>"
   ]
  },
  {
   "cell_type": "markdown",
   "metadata": {},
   "source": [
    "## Leakage current and parasitic capacitances\n",
    "\n",
    "What we are building should work well in theory. However, due to imperfect components and breadboard, we get additional resistances and capacitances that change our measured voltage. Luckily, our goal is just to determine the voltage difference between an untouched and a touched pad. As we have discussed before, the reference voltage $V_{ref}$ needs to be tuned to a threshold voltage between the touched and untouched voltage. The voltage at the positive input terminal of the op-amp, however, is not a constant voltage. Due to internal resistance and capacitances, it actually decays exponentially. To remedy this, we let a couple milliseconds pass so the output readings are cleaner. This is reflected in the Launchpad control code."
   ]
  },
  {
   "cell_type": "markdown",
   "metadata": {},
   "source": [
    "<a id='task3'></a>\n",
    "## <span style=\"color:blue\">Task 3: LaunchPad Control and Sensing</span>\n",
    "\n",
    "#### Materials\n",
    "* Breadboard Circuit and Touchpad from Previous Sections\n",
    "* LaunchPad\n",
    "* Wires\n",
    "\n",
    "After you have built your circuit in [Task 2d](#task2d), upload the provided **`Read_Touchscreen.ino`** file to the Launchpad. Run the Serial Monitor from Tools > Serial Monitor to see the readings from Pin 6.2. Adjust $V_{ref}$ using the power supply so that when not touching you get no touch detected, but touching you do. You can perform a sanity check first by putting $V_{ref}$ to 5V to see that you have no touch detected at all no matter what you do, and settings $V_{ref}$ to 0V and seeing that it always has touch detected. If you do not pass this sanity check, that means you have something wrong in your circuit. Please attempt to debug a bit, but do not get caught up for more than 5 minutes, and instead call your GSI / Lab ASE over. \n",
    "\n",
    "To make the readings more robust, we read multiple times and average the results before outputting any result; this ensures that we are not outputting results based on bad data. You can read through the code provided to see how it works. Note that the onboard LED is also set to turn on when a touch is detected.\n",
    "\n",
    "**<span style=\"color:red\">Show your GSI that your final circuit can detect and display when you've touched that pad.</span>**\n",
    "\n",
    "**<span style=\"color:red\">Congratulations! You've reached the point where we're hoping you to get to in the first lab session. If there's still time left, feel free to continue working, as it'll give you more wiggle room next lab if you are able to work ahead in this one. If you want to leave, try to keep you circuit intact, because you'll be using the exact same circuit in the next parts. What $V_{ref}$ works for your circuit? </span>**"
   ]
  },
  {
   "cell_type": "markdown",
   "metadata": {},
   "source": [
    "`YOUR ANSWER HERE`"
   ]
  },
  {
   "cell_type": "markdown",
   "metadata": {},
   "source": [
    "<a id='checkoff'></a>\n",
    "## Midpoint Checkoff\n",
    "This is your checkpoint. This is worth points, so make sure you get checked off as usual. This checkpoint corresponds to Touchscreen 3.1. When you are ready to get checked off, please go to: https://goo.gl/forms/HJSHREWdVpO5yUUi2. Fill out one form per person in your group. Follow the form exactly and submit. Your GSI or a Lab Assistant will come by once they are available and go through some checkoff questions with your group."
   ]
  },
  {
   "cell_type": "markdown",
   "metadata": {},
   "source": [
    "<a id='task4'></a>\n",
    "## <span style=\"color:blue\">Task 4: Overview of the Actuation Circuit</span>\n",
    "<p>**Now that you completed the sensing portion of the cicuit, we can start planning on how to connect the actuation portion. The sensing part senses whether there is a touch or not on the touchpad. The actuation part will play a music once the system detects a touch.**</p>"
   ]
  },
  {
   "cell_type": "markdown",
   "metadata": {},
   "source": [
    "<a id='task4a'></a>\n",
    "## <span style=\"color:blue\">Task 4a: Testing the Read Circuit</span>\n",
    "**<span style=\"color:red\">Make sure your circuit that you build previously in [Task 2d](#task2d) is functioning correctly. Make sure to turn off all powersupplies and to unplug your MSP from the computer. After checking the connections power up the PSU and the MSP 430 Launchpad</span>**\n",
    "\n",
    "**<span style=\"color:red\">Test the circuit by running the `touch_speaker.ino` program on the Launchpad and confirming the Serial Monitor output is correct.</span>** You will need to tune the reference voltage, similart to [Task 3](#task3).\n",
    "\n",
    "**<span style=\"color:red\">What is the purpose of the voltage divider at the output of op amp A? What is the maximum and minimum voltage expected at Pin P6.2 when the voltage divider is connected to the launchpad?</span>**"
   ]
  },
  {
   "cell_type": "markdown",
   "metadata": {},
   "source": [
    "YOUR ANSWER HERE"
   ]
  },
  {
   "cell_type": "markdown",
   "metadata": {},
   "source": [
    "<a id='task5'></a>\n",
    "## <span style=\"color:blue\">Task 5: Amplifier Overview</span>\n",
    "The purpose of an amplifier circuit is to amplify signals. In our case, we will be using the amplifier to amplify sound. The configuration we will use is the non-inverting configuration. In this configuration, the input voltage signal, $V_{in}$ is applied directly to the non-inverting ( + ) input terminal which means that the output gain of the amplifier becomes “Positive” in value in contrast to the “Inverting Amplifier” circuit whose output gain is negative in value.\n",
    "\n",
    "Feedback control of the non-inverting operational amplifier is achieved by applying a small part of the output voltage signal back to the inverting ( – ) input terminal via a $R_f$ & $R_2$ voltage divider network, again producing negative feedback. This closed-loop configuration produces a non-inverting amplifier circuit with very good stability, a very high input resistance, $R_{in}$ approaching infinity, as no current flows into the positive input terminal, (ideal conditions) and a low output resistance, $R_{out}$.\n",
    "\n",
    "<img src=\"http://i.imgur.com/5GxvJtK.gif\" width=\"40%\"/>\n",
    "\n",
    "**<span style=\"color:red\">Express $V_{out}$ as a function of $V_{in}$, $R_2$, and $R_f$.</span>**"
   ]
  },
  {
   "cell_type": "markdown",
   "metadata": {},
   "source": [
    "YOUR ANSWER HERE"
   ]
  },
  {
   "cell_type": "markdown",
   "metadata": {},
   "source": [
    "<a id='task6'></a>\n",
    "## <span style=\"color:blue\">Task 6: Adding the Speaker and the Amplifier to the Circuit</span>\n",
    "<p>**In this task we will add the speaker and the amplifier to play a tune when the touchpad senses touch.**</p>"
   ]
  },
  {
   "cell_type": "markdown",
   "metadata": {},
   "source": [
    "<a id='task6a'></a>\n",
    "## <span style=\"color:blue\">Task 6a: Add the Amplifier</span>\n",
    "\n",
    "Now we will complete the rest of the circuit by adding the final amplifier. The LMC6482 contains two separate op-amps as well as pins for power and ground. We used one of the op-amps (op amp A) for the comparator circuit and now we will use the second op-amp for the amplifier circuit (op amp B). Complete the circuit as shown below by adding the amplifier on the far right. \n",
    "\n",
    "<img src=\"img/full_circuit_tikz.png\" height=\"100%\"/>\n",
    "<img src=\"img/pin_assignments.png\" align=\"center\" style=\"height:400px\"/>\n",
    "\n",
    "**<span style=\"color:red\">Note: The Op-Amp Package you're using contains two Op-Amps; one will be used for the Comparator, one will be used for the Amplifier.</span>**\n",
    "\n",
    "<img src=\"img/opamp.png\" height=\"100px\"/>\n",
    "<center><span style=\"font-size:9pt;align:center\">Additional details: http://www.ti.com/lit/ds/symlink/lmc6482.pdf</span></center>\n",
    "\n",
    "**<span style=\"color:red\">If the voltage output at Pin P2.5 of Lauchpad is 5V, what will be the voltage at the output of the non-inverting amplifier connected to the speaker?</span>**"
   ]
  },
  {
   "cell_type": "markdown",
   "metadata": {},
   "source": [
    "YOUR ANSWER HERE"
   ]
  },
  {
   "cell_type": "markdown",
   "metadata": {},
   "source": [
    "<a id='task6b'></a>\n",
    "## <span style=\"color:blue\">Task 6b: Add the Speaker</span>\n",
    "\n",
    "Connect the speaker to the output of the op amp and test your setup by running the **`touch_speaker.ino`** program. Do you hear a tune when you touch the touchscreen? \n",
    "\n",
    "**<span style=\"color:red\">Now connect the non-grounded lead of the speaker directly to the P2.5 of the Lauchpad. Is there any difference of the sound level with and without the amplifier circuit?</span>**"
   ]
  },
  {
   "cell_type": "markdown",
   "metadata": {},
   "source": [
    "YOUR ANSWER HERE"
   ]
  },
  {
   "cell_type": "markdown",
   "metadata": {},
   "source": [
    "### **Optional**: Look at the code for the mario music. Edit or make a new file to play your own music\n",
    "\n",
    "Take a video and post to piazza for us all to see!"
   ]
  },
  {
   "cell_type": "markdown",
   "metadata": {},
   "source": [
    "<a id='checkoff'></a>\n",
    "## Checkoff\n",
    "When you are ready to get checked off, please go to: https://goo.gl/forms/HJSHREWdVpO5yUUi2. This part corresponds to Touchscreen 3.2. Fill out one form per person in your group. Follow the form exactly and submit. Your GSI or a Lab Assistant will come by once they are available and go through some checkoff questions with your group.\n",
    "\n",
    "**Please return your speaker to the round table after you are done!**"
   ]
  }
 ],
 "metadata": {
  "anaconda-cloud": {},
  "kernelspec": {
   "display_name": "Python 3",
   "language": "python",
   "name": "python3"
  },
  "language_info": {
   "codemirror_mode": {
    "name": "ipython",
    "version": 3
   },
   "file_extension": ".py",
   "mimetype": "text/x-python",
   "name": "python",
   "nbconvert_exporter": "python",
   "pygments_lexer": "ipython3",
   "version": "3.6.1"
  }
 },
 "nbformat": 4,
 "nbformat_minor": 1
}
