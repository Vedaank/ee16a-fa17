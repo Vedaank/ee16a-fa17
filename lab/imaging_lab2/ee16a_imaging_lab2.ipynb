{
 "cells": [
  {
   "cell_type": "markdown",
   "metadata": {},
   "source": [
    "# Imaging Lab 2: Single Pixel Scanning\n",
    "\n",
    "### EECS 16A: Designing Information Devices and Systems I, Fall 2017"
   ]
  },
  {
   "cell_type": "markdown",
   "metadata": {},
   "source": [
    "**Name 1**:\n",
    "\n",
    "**Login**: ee16a-\n",
    "\n",
    "\n",
    "**Name 2**:\n",
    "\n",
    "**Login**: ee16a-"
   ]
  },
  {
   "cell_type": "markdown",
   "metadata": {},
   "source": [
    "\n",
    "## Table of Contents\n",
    "\n",
    "* [Instructions](#instructions)\n",
    "* [Lab Policies](#policies)\n",
    "* Hardware Setup\n",
    "    * [Light Sensor Breadboard Circuit](#task1a)\n",
    "    * [Launchpad (MSP430) Setup](#task1b)\n",
    "    * [Projector Setup](#task1c)\n",
    "* Images, Vectors, and Matrices\n",
    "    * [Working with Images](#task2a)\n",
    "    * [Scanning Mask Matrix](#task2b)\n",
    "* [Imaging Real Pictures](#task3)\n",
    "* [FAQ](#faq)"
   ]
  },
  {
   "cell_type": "markdown",
   "metadata": {},
   "source": [
    "<a id='instructions'></a>\n",
    "## Instructions\n",
    "* Complete this lab by filling in all of the required sections, marked with `\"YOUR CODE HERE\"` or `\"YOUR COMMENTS HERE\"`.\n",
    "\n",
    "\n",
    "* When you finish, submit a checkoff request to get checked off for this lab. Be ready to answer a few questions to show your understanding of each section.\n",
    "\n",
    "\n",
    "* Labs will be graded based on completion for teams of 2 (or 3) students."
   ]
  },
  {
   "cell_type": "markdown",
   "metadata": {},
   "source": [
    "<a id='policies'></a>\n",
    "## Lab Policies\n",
    "* **YOU MUST ATTEND THE LAB SECTION YOU ARE ENROLLED IN. If you anticipate missing a section, please notify your GSI in advance.**\n",
    "* **You are required to return all parts checked out at the beginning of the lab section unless told otherwise.**\n",
    "* **You are free to stay for the full allotted time and hack around with the lab equipment, but please keep the GSI's time in mind and do not work on unrelated assignments.**\n",
    "* **Food and drinks (except water) are not allowed in the lab.**\n",
    "* **Clean up, turn off all equipment, and log off of computers before leaving.**"
   ]
  },
  {
   "cell_type": "markdown",
   "metadata": {},
   "source": [
    "# Overview\n",
    "<center>\n",
    "<img src=\"images/system_diagram.svg\" style=\"height:256px\" />\n",
    "</center>\n",
    "This week, you will scan a real-life image pixel-by-pixel using a projector and light sensor circuit (a.k.a. **single pixel camera**), and you will write code to display the captured image in your Jupyter (iPython) notebook. You will begin by checking that the circuit you built last time (with minor modifications) works and that the projector is properly connected to the computer. Next, you will write code to generate the \"mask\" patterns that the projector uses to scan the image. Then, you will use your generated mask matrix to photograph an image with the projector and ambient light sensor setup (seen below). Finally, you will write code to recreate the image from light sensor readings that are sent to your computer via the Launchpad.\n",
    "<br><br>\n",
    "<center>\n",
    "**Cory 140**\n",
    "<img src=\"images/side.png\" style=\"height:350px\" />\n",
    "<br>\n",
    "**Cory 125**\n",
    "<img src=\"images/125_setup.jpg\" style=\"height:350px\" />\n",
    "</center>"
   ]
  },
  {
   "cell_type": "markdown",
   "metadata": {},
   "source": [
    "<a id='task1a'></a>\n",
    "## <span style=\"color:blue\">Light Sensor Breadboard Circuit</span>\n",
    "\n",
    "Build the ambient light sensor circuit on a breadboard and hook it up to the Launchpad, as you did in Imaging Lab 1. This requires the following parts:\n",
    "\n",
    "* **1x Breadboard**\n",
    "* **4x Male-to-Male Jumper Wires (Exposed metal connections on both ends)**\n",
    "* **1x Ambient Light Sensor a.k.a. Phototransistor (Cory 140 only)**\n",
    "* **1x AAXA Technologies Projector with Light Sensor (Cory 125 only)**\n",
    "* **1x 0.1$\\mu$F Capacitor (104)** \n",
    "* **1x 100$k\\Omega$ Resistor (Brown-Black-Yellow-Gold)**\n",
    "* **1x TI Launchpad MSP430F5529LP**\n",
    "* **1x Micro-USB to USB-A Cable (Long, supplied for this lab)**\n",
    "\n",
    "The schematic that you will build is shown below. Labels in purple indicate connections to the Launchpad. First, we will plug the necessary circuit elements into the breadboard. Follow the instructions below exactly.\n",
    "<br><br>\n",
    "<center>\n",
    "<table>\n",
    "<tr>\n",
    "<td style=\"border: 1px solid #000000;\" width=\"50%\"><center>Schematic</center></td>\n",
    "<td style=\"border: 1px solid #000000;\" width=\"50%\"><center>Breadboard View</center></td>\n",
    "<tr>\n",
    "<td style=\"border: 1px solid #000000;\"><img src=\"images/schem.svg\" align=\"center\" /></td>\n",
    "<td style=\"border: 1px solid #000000;\"><img src=\"images/bb.svg\" align=\"center\" /></td>\n",
    "</tr>\n",
    "</table>\n",
    "</center>\n",
    "\n",
    "Setting up the Breadboard:\n",
    "\n",
    "* <span style=\"color:green\">For Cory 140 **ONLY**</span>: Plug the **long leg of the ambient light sensor** into **Row 16, Column A of the breadboard**, as illustrated in the breadboard diagram above. The short leg should be plugged into the nearest hole in the **<span style=\"color:red\">red (+) column</span>** of the breadboard.\n",
    "<br><br>\n",
    "\n",
    "* <span style=\"color:blue\">For Cory 125 **ONLY**</span>: Plug in the negative jumper wire (labeled with a **minus**) from the light sensor that is taped onto the projector to **Row 16, Column A of the breadboard**, as illustrated in the breadboard diagram above. The positive jumper wire (labeled with a **plus**) from the light sensor should be plugged into a hole in the **<span style=\"color:red\">red (+) column</span>** of the breadboard. *You will be using the light sensor that is taped onto the projector as opposed to your own.*\n",
    "<br><br>\n",
    "\n",
    "* For everyone: Plug one leg of the **100k$\\Omega$ resistor** into a hole in **Row 6** of the breadboard. Plug its other leg into a nearby hole in the **<span style=\"color:blue\">blue (-) column</span>**.\n",
    "<br><br>\n",
    "\n",
    "* For everyone: In a similar fashion, plug the **0.1$\\mu$F capacitor** into a hole in **Row 6** of the breadboard. The other leg should also be plugged into the **<span style=\"color:blue\">blue (-) column</span>**. *Warning: Make sure that none of the legs are touching each other to prevent shorting!* \n",
    "<br><br>\n",
    "\n",
    "* For everyone: Use a **male-to-male jumper wire** to connect (short) **Row 16, Column E** to **Row 6, Column E**."
   ]
  },
  {
   "cell_type": "markdown",
   "metadata": {},
   "source": [
    "### Stand Setup\n",
    "\n",
    "*Unlike last week, we care about where the light sensor and other components are placed on the breadboard. **The light sensor should be facing the center of the image being captured (roughly the center of the projected display), and should not be tilted away.** No components, wires, etc. should get in its way. Therefore, everything else is carefully placed to the side. This is evidenced from the photos below:*\n",
    "<br><br>\n",
    "<center>\n",
    "**Cory 140**\n",
    "<table>\n",
    "<tr>\n",
    "<td style=\"border: 1px solid #000000;\" width=\"50%\"><center>Front</center></td>\n",
    "<td style=\"border: 1px solid #000000;\" width=\"50%\"><center>Side</center></td>\n",
    "<tr>\n",
    "<td style=\"border: 1px solid #000000;\"><img src=\"images/front.png\" align=\"center\" /></td>\n",
    "<td style=\"border: 1px solid #000000;\"><img src=\"images/side.png\" align=\"center\" /></td>\n",
    "</tr>\n",
    "</table>\n",
    "<br>\n",
    "**Cory 125**\n",
    "<table>\n",
    "<tr>\n",
    "<td style=\"border: 1px solid #000000;\" width=\"50%\"><center>Side</center></td>\n",
    "<td style=\"border: 1px solid #000000;\" width=\"50%\"><center>Top</center></td>\n",
    "<tr>\n",
    "<td style=\"border: 1px solid #000000;\"><img src=\"images/125_setup.jpg\" align=\"center\" /></td>\n",
    "<td style=\"border: 1px solid #000000;\"><img src=\"images/125_inside.jpg\" align=\"center\" /></td>\n",
    "</tr>\n",
    "</table>\n",
    "</center>\n",
    "\n",
    "* <span style=\"color:green\">Cory 140 **ONLY**</span>: Take the plastic stand (with projector) out of the cardboard box at your station. The breadboard should be sitting on top of the stand's raised base (immediately in front of/below the projector). You should **tape the breadboard's side to the stand, as shown in the (Side) photo**. Tape is on the TA desk; do not take the whole dispenser.\n",
    "\n",
    "<center>\n",
    "<img src=\"images/launchpad.png\" style=\"height:350px\" />\n",
    "</center>\n",
    "\n",
    "* After attaching the breadboard to the stand, place the **Launchpad at the stand's base** and use a **male-to-male jumper wire** to connect **Row 6** (= sensor circuit output) to **P6.0 on the back of the Launchpad (yellow)**. The Launchpad can read analog voltage values from our circuit, convert them into digital values, and then send them over to our computer. \n",
    "<br><br>\n",
    "\n",
    "* The Launchpad supplies 3.3V to our circuit. Use a **male-to-male jumper wire** to connect the right-most hole (~Row 1) in the **<span style=\"color:red\">red (+) column</span>** (3.3V supply) to **3V3 on the back of the Launchpad (green)**.\n",
    "<br><br>\n",
    "\n",
    "* Use a **male-to-male jumper wire** to connect the right-most hole in the **<span style=\"color:blue\">blue (-) column</span>** (0V) to **GND on the back of the Launchpad (blue)**.\n",
    "\n",
    "<center>\n",
    "<img src=\"images/breadboard_sup.jpg\" style=\"height:350px\" />\n",
    "</center>\n",
    "\n",
    "*Again, make sure none of your wires get in the way of the projector or light sensor. If they do, consider taping them down.*"
   ]
  },
  {
   "cell_type": "markdown",
   "metadata": {},
   "source": [
    "<a id='task1b'></a>\n",
    "## <span style=\"color:blue\">Launchpad (MSP430) Setup</span>\n",
    "<center>\n",
    "**Cory 140**\n",
    "<img src=\"images/top.png\" style=\"height:350px\" />\n",
    "<br>\n",
    "**Cory 125**\n",
    "<img src=\"images/125_inside.jpg\" style=\"height:350px\" />\n",
    "</center>\n",
    "\n",
    "* First, move **everything into the cardboard box**. **<span style=\"color:blue\">For 125 Cory</span>**: If you are having trouble keeping the projector upright, really spread open the tripod legs. Feel free to put the breadboard and MSP anywhere in the box (on top of the projector, in front of the projector) as long as it does not get in the way of the projected image.\n",
    "<br><br>\n",
    "\n",
    "* Feed a **long Micro-USB cable** (already connected to your computer on the USB-A end) **through the hole in the box closest to the Launchpad's Micro-USB port. Plug it into the Launchpad's Micro-USB port.** You can find the cable in the box for **<span style=\"color:green\">140 Cory</span>**, and already attached to the computer in 125 Cory.\n",
    "<br><br>\n",
    "\n",
    "* **<span style=\"color:red\">Open the `AnalogReadSerial` program in `Energia (File > Open)`. This is a different Launchpad code from last week, and can be found in the Imaging Lab 2 folder you downloaded. Upload the code by clicking on the `Upload` button (white circle with a right-pointing arrow, as shown below):</span>**\n",
    "<br><br>\n",
    "<center>\n",
    "<img src=\"images/upload.png\"/>\n",
    "<img src=\"images/baud.png\"/>\n",
    "</center>\n",
    "<br>\n",
    "\n",
    "* **<span style=\"color:red\">To verify that the program is working, type a `6` into the serial monitor (accessed in Energia via `Tools > Serial Monitor`). You will need to set the `Baud Rate to 115200`. You should see a reading from the ambient light sensor appear. Take note of the highest and lowest values you can read.</span>**\n",
    "\n",
    "*Note: If you're having any trouble connecting to your Launchpad, double check that the right board is selected via **Tools > Board > MSP-EXP430F5529LP**. Also double check that the right serial port is selected via **Tools > Port > COM#**. In order to upload code to the device, we have to select the serial port that the Launchpad is connected to. Use the **Windows Device Manager** to figure out which COM port is connected to <b>UART1</b>."
   ]
  },
  {
   "cell_type": "markdown",
   "metadata": {},
   "source": [
    "<a id='task1c'></a>\n",
    "## <span style=\"color:blue\">Projector Setup</span>\n",
    "<center>\n",
    "**Cory 140**\n",
    "<img src=\"images/projector.png\" style=\"height:350px\" />\n",
    "\n",
    "**Cory 125**\n",
    "<img src=\"images/p3x.png\" style=\"height:350px\" />\n",
    "</center>\n",
    "\n",
    "Setup the projector with the following steps:\n",
    "\n",
    "* **Feed the Mini-HDMI cable and projector power cable through the box holes closest to corresponding projector ports (refer back to Launchpad Setup as reference) and connect them to the projector.** The Mini-HDMI cable should already be plugged into the computer. You can likely find it on the computer or behind the monitor. The power adapter should be plugged into one of the outlets at the back of your workstation, behind your keyboard. In Cory 125, all the outlets may be used. Unplug the Soldering Iron (turquoise, shown below).\n",
    "<center>\n",
    "<img src=\"images/125_power.jpg\" style=\"height:256px\"/>\n",
    "<br><br>\n",
    "</center>\n",
    "\n",
    "* Turn on the projector by holding down the **Power button** (see the previous figure). \n",
    "<br><br>\n",
    "\n",
    "* Find the **Focus Adjustment** wheel on the side of the projector to adjust the focus of the projection onto the box. Get it as close as possible; *Cory 125* projectors will not have perfect focus.<br><br>\n",
    "<center>\n",
    "Cory 140:\n",
    "<img src=\"images/projector_menu.png\" style=\"height:256px\"/>\n",
    "<br><br>\n",
    "Cory 125:\n",
    "<img src=\"images/aaxa_setup.jpg\" style=\"height:256px\"/>\n",
    "</center>\n",
    "<br>\n",
    "\n",
    "* Using the left/right arrows on the **Directional Pads**, select **HDMI** on the projector's **main menu**. After a few seconds, you should see the Windows 10 desktop.\n",
    "<br><br>\n",
    "\n",
    "* If you see the Windows 10 taskbar at the bottom of the projected screen, take the following precautions:\n",
    "    1. Hit the **Windows key** and type **Settings**.\n",
    "    2. Click on the **Personalization** icon.\n",
    "    3. Click on **Taskbar** on the left side.\n",
    "    4. Under the **Multiple Displays** section, turn **Show taskbar on all displays `off`**.\n",
    "<br><br>\n",
    "\n",
    "* Use the **Back button** on the projector to return to displaying the **main menu**. \n",
    "<br><br>\n",
    "\n",
    "* Use the left/right arrows to select the **Settings** option (gears icon). \n",
    "<br><br>\n",
    "<center>\n",
    "\n",
    "<img src=\"images/picture_mode.png\" style=\"height:256px\"/>\n",
    "\n",
    "</center>\n",
    "<br><br>\n",
    "\n",
    "* Change the **Picture Mode** from Standard to **User**. \n",
    "<br><br>\n",
    "\n",
    "* **IMPORTANT**: Use the down arrow to move the cursor down to **Contrast**. Then use the right arrow to adjust the contrast to **100**.\n",
    "<br><br>\n",
    "\n",
    "* **IMPORTANT**: Move the cursor down to **Brightness** and use the left arrow to adjust the brightness to **0**. \n",
    "<br><br>\n",
    "\n",
    "* To **Confirm the Selection**, hit OK and exit the menu with the **Back button**. \n",
    "<br><br>\n",
    "\n",
    "* Again, select **HDMI** on the projector's **main menu** and make sure that you see the Windows 10 desktop on your projector."
   ]
  },
  {
   "cell_type": "code",
   "execution_count": null,
   "metadata": {
    "collapsed": true
   },
   "outputs": [],
   "source": [
    "# Import necessary libraries\n",
    "import numpy as np\n",
    "import matplotlib.pyplot as pltnp.linspace(0, 1, 25).reshape((5, 5))\n",
    "import scipy as sp\n",
    "import scipy.stats\n",
    "%matplotlib inline"
   ]
  },
  {
   "cell_type": "markdown",
   "metadata": {},
   "source": [
    "<a id='task2a'></a>\n",
    "## <span style=\"color:blue\">Working with Images</span>\n",
    "A simple grayscale image can be represented using a 2D numpy array (matrix). The values stored in this array correspond to different shades of gray, where lower numbers correspond to darker pixels and higher numbers correspond to lighter pixels.  \n",
    "\n",
    "To see how this works, create a 5x5 numpy array called **`gradient_image`** with *linearly spaced* floating point values from 0 to 1. This means that gradient_image[0, 0] = 0.0, gradient_image[2, 2] = 0.5, and gradient_image[4,4] = 1.0.\n",
    "\n",
    "** <span style=\"color:red\">Create the gradient 5x5 array here. It should look like the following:</span>**\n",
    "<br/><br/>\n",
    "<center>\n",
    "<img src=\"images/gradient.JPG\" align=\"center\" style=\"height:200px\" />\n",
    "</center>\n",
    "\n",
    "*Hint: Google the functions `np.linspace` (which creates a vector of equally spaced values over a specified range) and `np.reshape`!*"
   ]
  },
  {
   "cell_type": "code",
   "execution_count": null,
   "metadata": {
    "collapsed": true
   },
   "outputs": [],
   "source": [
    "# TODO: Make a 5x5 gradient image with values from 0 to 1.\n",
    "gradient_image = # YOUR CODE HERE\n",
    "np.reshape(gradient_image, (25, 1))\n",
    "print(gradient_image)\n",
    "plt.imshow(gradient_image, cmap = 'gray', interpolation=\"nearest\")"
   ]
  },
  {
   "cell_type": "markdown",
   "metadata": {},
   "source": [
    "**<span style=\"color:red\">What color does 1.0 correspond to? What about 0?</span>**"
   ]
  },
  {
   "cell_type": "markdown",
   "metadata": {},
   "source": [
    "YOUR COMMENTS HERE"
   ]
  },
  {
   "cell_type": "markdown",
   "metadata": {},
   "source": [
    "**NOTE**: In lecture, we have been using 1 indexing for our vectors. In lab, we will be using 0 indexing, as most programming languages index in lists starting from 0.\n",
    "\n",
    "Let's suppose the 2D image we want to \"scan\" with our single pixel camera is **`gradient_image`**. What would the same image look like if it were instead represented by a 1D column vector **`gradient_image_vector`**? \n",
    "<center>\n",
    "<img src=\"images/matrix_to_col.png\" style=\"width:500px\"/>\n",
    "</center>\n",
    "\n",
    "Let's look at the 3x3 example image above (colored for illustrative purposes). Essentially, the $0$th row is flipped on its side, such that its left-most element is on top and its right-most element is on the bottom. The $1$st row is also flipped on its side in the same way and appended below. These steps are repeated for each subsequent row of the original 2D image until you build a `num_pixels` $\\times 1$ **column vector**.\n",
    "\n",
    "In matrix form, each pixel value in the 3x3 image is represented as a variable $iv_{ij}$, where $i$ is the row and $j$ is the column associated with the pixel location. This same image represented as a 1D column vector (called $\\vec{i}$) is:\n",
    "\n",
    "$$\\vec{i} = \\begin{bmatrix} iv_{00} \\\\ iv_{01} \\\\ iv_{02} \\\\ iv_{10} \\\\ iv_{11} \\\\ iv_{12} \\\\ iv_{20} \\\\ iv_{21} \\\\ iv_{22} \\end{bmatrix}$$\n",
    "\n",
    "**<span style=\"color:red\">Convert the 5x5 `gradient_image` that you created above into a 25x1 column vector `gradient_image_vector` and display it. You will find the command `np.reshape` helpful. What do you notice?</span>**"
   ]
  },
  {
   "cell_type": "code",
   "execution_count": null,
   "metadata": {
    "collapsed": true
   },
   "outputs": [],
   "source": [
    "# TODO: Convert the 5x5 matrix into a 25x1 column vector\n",
    "gradient_image_vector = # YOUR CODE HERE\n",
    "\n",
    "# Display the vector\n",
    "plt.imshow(gradient_image_vector, cmap='gray', interpolation=\"nearest\")"
   ]
  },
  {
   "cell_type": "markdown",
   "metadata": {},
   "source": [
    "<a id='task2b'></a>\n",
    "## <span style=\"color:blue\">Scanning Mask Matrix</span>\n",
    "\n",
    "Next, we will create a \"mask\" array (matrix) to enable our projector to illuminate and scan individual pixels, one at a time. This is the magic behind our single pixel camera. \n",
    "\n",
    "What matrix $H$ multiplied with **`gradient_image_vector`** will return **`gradient_image_vector`**? If **`gradient_image_vector`** is represented by the column vector variable $\\vec{i}$, the act of transforming $\\vec{i}$ by a matrix $H$ into another 1D column vector $\\vec{s}$ is represented mathematically as:\n",
    "\n",
    "$$ \\vec{s} = H \\vec{i} $$\n",
    "\n",
    "This matrix multiplication represents what happens when we scan an image with our single pixel camera! In the context of our imaging system, $H$ represents the scanning \"mask matrix,\" whose rows are projected one-by-one onto the image we want to scan. $\\vec{s}$ represents digitized readings from our light sensor. Each element $sr_k$ of $\\vec{s}$ corresponds to one scan (using one row $k$ of $H$, that we refer to as $H_k$). \n",
    "\n",
    "Each 1D **row of $H$** represents a **mask**. But what is a mask? In the context of our single pixel camera, a mask is a way to hide certain elements of the image while scanning. For a 3x4 image (where 3 = height, 4 = width to match Numpy array indexing), a mask taken from **row 0 of $H$** is represented as the $12 \\times 1$ row vector below: \n",
    "\n",
    "$$\n",
    "H_0 \n",
    "= \\begin{bmatrix} 1 & 0 & 0 & 0 & 0 & 0 & 0 & 0 & 0 & 0 & 0 & 0\\end{bmatrix}\n",
    "$$\n",
    "\n",
    "However, the mask must first be converted into its 2D form, as shown below, before it's projected over the 2D image. The mask exposes only the top-left pixel of the 2D image and hides all other pixels. Note that you can convert a 2D mask into a 1D row of $H$ by appending each of the 2D mask's rows to the right of the previous row.\n",
    "<br><br>\n",
    "<center>\n",
    "<img src=\"images/black_hite.png\" style=\"width:400px\"/>\n",
    "</center>\n",
    " \n",
    "To expose each pixel of the 3x4 image $\\vec{i}$ individually, we would need a 12x12 $H$ that has 12 masks (rows), each with a single white \"exposed\" pixel in a unique location. This means that **row 1 of $H$** (exposing $iv_{01}$) would look like:\n",
    "\n",
    "$$\n",
    "H_1 \n",
    "= \\begin{bmatrix} 0 & 1 & 0 & 0 & 0 & 0 & 0 & 0 & 0 & 0 & 0 & 0\\end{bmatrix}\n",
    "$$"
   ]
  },
  {
   "cell_type": "markdown",
   "metadata": {},
   "source": [
    "The process of masking an image, one pixel at a time, and sensing the resultant ambient light performs the matrix multiplication $\\vec{s} = H \\vec{i}$ in real life. This equation implies that each element of the sensor reading column vector $\\vec{s}$ can be determined as:\n",
    "    \n",
    "$$sr_k = H_k \\vec{i}$$\n",
    "\n",
    "Where the $k$th sensor reading is determined by the $k$th row of $H$, $H_k$. Thus, projecting the 2D representation of $H_0$ shown above onto a 3x4 image represented by the column vector $\\vec{i}$ to obtain the sensor reading $sr_0$ would be mathematically equivalent to:\n",
    "\n",
    "$$\n",
    "sr_0 = \\begin{bmatrix} 1 & 0 & 0 & 0 & 0 & 0 & 0 & 0 & 0 & 0 & 0 & 0\\end{bmatrix} \\vec{i}\n",
    "$$"
   ]
  },
  {
   "cell_type": "markdown",
   "metadata": {},
   "source": [
    "**<span style=\"color:red\">\n",
    "What dimensions does the mask matrix $H$ for a 5x5 image have and why? </span>**"
   ]
  },
  {
   "cell_type": "markdown",
   "metadata": {},
   "source": [
    "YOUR COMMENTS HERE"
   ]
  },
  {
   "cell_type": "markdown",
   "metadata": {},
   "source": [
    "**<span style=\"color:red\">\n",
    "Create the mask matrix $H$ for the 5x5 image.</span>**\n",
    "\n",
    "*Hint: Google the function `np.eye`.*"
   ]
  },
  {
   "cell_type": "code",
   "execution_count": null,
   "metadata": {
    "collapsed": true
   },
   "outputs": [],
   "source": [
    "# TODO: Create the mask matrix `H` for scanning a 5x5 image (be careful about the dimensions!)\n",
    "H = # YOUR CODE HERE\n",
    "\n",
    "# Display this matrix\n",
    "plt.imshow(H, cmap = 'gray', interpolation=\"nearest\")"
   ]
  },
  {
   "cell_type": "markdown",
   "metadata": {},
   "source": [
    "**<span style=\"color:red\">\n",
    "Multiply the $H$ matrix with `gradient_image_vector` to get the same vector back! Remember to use `np.dot` to do matrix multiplication.</span>**"
   ]
  },
  {
   "cell_type": "code",
   "execution_count": null,
   "metadata": {
    "collapsed": true
   },
   "outputs": [],
   "source": [
    "# TODO: Recreate gradient_image_vector by multiplying `H` and `gradient_image_vector`\n",
    "gradient_image_recreate = # YOUR CODE HERE\n",
    "\n",
    "# Display the result and compare it to `gradient_image_vector`\n",
    "plt.imshow(gradient_image_recreate, cmap = 'gray', interpolation=\"nearest\")"
   ]
  },
  {
   "cell_type": "markdown",
   "metadata": {},
   "source": [
    "What is happening when this matrix multiplication is performed? To reiterate, each row of $H$ is responsible for \"illuminating,\" or selecting, a single pixel in the gradient image! `gradient_image_vector` was created by converting the 5x5 `gradient_image` into a 1D *column vector*. Similarly, *every row* in $H$ can be represented as a 5x5 image that, in real imaging, would be projected over `gradient_image`. \n",
    "\n",
    "**<span style=\"color:red\">\n",
    "Iterate through each row of the matrix $H$. *Reshape* each row into a 5x5 image, and check that each row illuminates a unique pixel of the original 5x5 image! Based on $ \\vec{s} = H \\vec{i} $, why are the rows of $H$ used for masking when $\\vec{i}$ is a column vector?</span>**"
   ]
  },
  {
   "cell_type": "code",
   "execution_count": null,
   "metadata": {
    "collapsed": true
   },
   "outputs": [],
   "source": [
    "# Iterate through rows of matrix H and form individual masks\n",
    "plt.figure(figsize = (20, 20)) \n",
    "for k in range(25):\n",
    "    plt.subplot(5, 5, k + 1)\n",
    "    \n",
    "    mask = # YOUR CODE HERE\n",
    "    \n",
    "    plt.imshow(mask, cmap = 'gray', interpolation=\"nearest\")\n",
    "    plt.title('Mask ' + str(k) + ' = Row ' + str(k) + ' of Matrix H')"
   ]
  },
  {
   "cell_type": "markdown",
   "metadata": {},
   "source": [
    "Each of the images above are masks. During a single scan, we project one of these masks over our image. The white pixel illuminates a particular location on the image that we want to capture, and the black pixels obscure the other parts of the image. Thus, using the rows of $H$, we gather information one pixel at a time.\n",
    "\n",
    "Let's try to make a mask matrix that's a little more complicated. We want the first half of $\\vec{s}$ to contain information on every other pixel of the image (i.e. $iv_{00}$, $iv_{02}$, $iv_{04}$). The second half of $\\vec{s}$ should consist of information on the pixels that the first half skipped (i.e. $iv_{01}$, $iv_{03}$, $iv_{10}$).\n",
    "\n",
    "**<span style=\"color:red\">\n",
    "Generate `H_Alt` whose first half (in terms of rows) illuminates every other pixel of $\\vec{i}$ and whose second half illuminates the pixels that were skipped. Multiply `H_Alt` by `gradient_image_vector` to produce the `s` described previously.\n",
    "</span>**\n",
    "\n",
    "*Hint: Try to use rows from the existing H matrix. Review the Python tutorial. Also, look up `np.concatenate` (if you want to try some clever array slicing) or use for loop(s).*"
   ]
  },
  {
   "cell_type": "code",
   "execution_count": null,
   "metadata": {
    "collapsed": true
   },
   "outputs": [],
   "source": [
    "# TODO: Create the new mask matrix `H_Alt`\n",
    "H_Alt = # YOUR CODE HERE\n",
    "\n",
    "# Display `H_Alt`\n",
    "plt.figure()\n",
    "plt.imshow(H_Alt, cmap = 'gray', interpolation=\"nearest\")\n",
    "\n",
    "# TODO: Multiply `H_Alt` and `gradient_image_vector`\n",
    "s =  # YOUR CODE HERE\n",
    "\n",
    "# Display the result `s` and compare to `gradient_image_vector`\n",
    "plt.figure()\n",
    "plt.imshow(s, cmap = 'gray', interpolation=\"nearest\")"
   ]
  },
  {
   "cell_type": "markdown",
   "metadata": {},
   "source": [
    "Because of how we designed `H_Alt`, `s` is clearly different from `gradient_image_vector`. Each pixel of `gradient_image_vector` is still illuminated only once by `H_Alt`, but the order in which the pixels are illuminated has changed. Therefore, we say that `s` is a \"scrambled\" version of `gradient_image_vector`. How would we go about performing a \"reconstruction\" step that transforms the column vector `s` back into `gradient_image_vector`? Recall that our original `H` was actually the **identity** matrix $I_n$. \n",
    " \n",
    "$$M \\vec{s} = M H_{Alt} \\vec{i} = I_n \\vec{i} = \\vec{i} $$\n",
    "\n",
    "**<span style=\"color:red\">What should M be to recover $\\vec{i}$?</span>**"
   ]
  },
  {
   "cell_type": "markdown",
   "metadata": {},
   "source": [
    "YOUR COMMENTS HERE"
   ]
  },
  {
   "cell_type": "markdown",
   "metadata": {},
   "source": [
    "**<span style=\"color:red\">Write code to reconstruct `gradient_image_vector` from `s`.</span>**"
   ]
  },
  {
   "cell_type": "code",
   "execution_count": null,
   "metadata": {
    "collapsed": true
   },
   "outputs": [],
   "source": [
    "# TODO: Reconstruct `gradient_image_vector`\n",
    "gradient_image_vector_reconstruct = # YOUR CODE HERE\n",
    "\n",
    "# Display the result\n",
    "plt.imshow(gradient_image_vector_reconstruct, cmap = 'gray', interpolation=\"nearest\")"
   ]
  },
  {
   "cell_type": "markdown",
   "metadata": {},
   "source": [
    "<a id='task3'></a>\n",
    "## <span style=\"color:blue\">Imaging Real Pictures</span>\n",
    "\n",
    "Finally, we will use our two matrices to image a real picture. Because our picture is fairly large, we want each individual mask to have dimensions 30x40 (i.e. height = 30, width = 40) to match the 4:3 (W:H) aspect ratio of the projector. Think about how big the mask matrix was for the 5x5 example. How big must it be for a 30x40 picture?\n",
    "\n",
    "**<span style=\"color:red\">\n",
    "Recreate both the $H$ and $H_{Alt}$ masks to match these new dimensions. </span>**"
   ]
  },
  {
   "cell_type": "code",
   "execution_count": null,
   "metadata": {
    "collapsed": true
   },
   "outputs": [],
   "source": [
    "# TODO: Recreate `H`\n",
    "H = # YOUR CODE HERE\n",
    "plt.figure(figsize = (8, 8))\n",
    "plt.imshow(H, cmap = 'gray', interpolation=\"nearest\")"
   ]
  },
  {
   "cell_type": "code",
   "execution_count": null,
   "metadata": {
    "collapsed": true
   },
   "outputs": [],
   "source": [
    "# TODO: Recreate `H_Alt`      \n",
    "H_Alt = # YOUR CODE HERE\n",
    "plt.figure(figsize = (8,8))\n",
    "plt.imshow(H_Alt, cmap = 'gray', interpolation=\"nearest\")"
   ]
  },
  {
   "cell_type": "markdown",
   "metadata": {},
   "source": [
    "Our mask matrices must be saved as files before they can be used to perform real imaging. The files are read by our imaging script, as seen below. "
   ]
  },
  {
   "cell_type": "markdown",
   "metadata": {},
   "source": [
    "**<span style=\"color:red\">Run the cell below to save `H` and `H_Alt`!</span>**"
   ]
  },
  {
   "cell_type": "code",
   "execution_count": null,
   "metadata": {
    "collapsed": true
   },
   "outputs": [],
   "source": [
    "np.save('H.npy', H)\n",
    "np.save('H_Alt.npy', H_Alt)"
   ]
  },
  {
   "cell_type": "markdown",
   "metadata": {},
   "source": [
    "Now, we need an object to take a picture of. There are index cards and markers at the GSI desk; **<span style=\"color:red\">take an index card and draw something on its blank (no lines) side. Place this index card inside the box so that the projector can project onto it</span>** (see the Overview image). \n",
    "\n",
    "**<span style=\"color:green\">Cory 140</span>**: You can either tape the index card to the side of the box that the projector is projecting onto or you can insert the index card into slots at the far end of the stand (if possible).\n",
    "\n",
    "**<span style=\"color:blue\">Cory 125</span>**: You'll need to tape the index card to the side of the box that the projector is projecting onto. \n",
    "\n",
    "Tape is on the TA desk; do not take the whole dispenser."
   ]
  },
  {
   "cell_type": "markdown",
   "metadata": {},
   "source": [
    "**<span style=\"color:red\">Double check that you've done the following before proceeding:</span>**\n",
    "\n",
    "* Upload `AnalogReadSerial` to the Launchpad.\n",
    "\n",
    "* Close out of the Energia Serial Monitor.\n",
    "\n",
    "* Make sure that the ambient light sensor is aimed at the center of the index card! The legs should not be touching.\n",
    "\n",
    "* Seal the imaging system inside the box to keep ambient light out during scanning. If the holes for cables are too big, try to have them face a solid, unmoving object that can block out light."
   ]
  },
  {
   "cell_type": "markdown",
   "metadata": {},
   "source": [
    "**<span style=\"color:red\">You will then run the `capture_image.py` script bellow that projects mask patterns onto your image based on the $H$ matrix that you designate. This script controls the scanning process.</span>** \n",
    "\n",
    "In the code block below, the `--mask` tag points to the file (including the npy extension) associated with the mask matrix you want to use. The `--out` tag tells the script where you want to save the column vector sensor data. (The \"out\" file name doesn't include the npy extension, as it's automatically appended. Additionally, info about the capture settings, like projector brightness, is also appended to the file name. We'll take care of this for you.)\n",
    "\n",
    "When running **`capture_image.py`**, a new icon shaped like a white web will appear in the taskbar. The window depicting our masks will appear on the projector's screen. *You can confirm this by looking into the box. (Don't forget to close the box when you're done checking!)*\n",
    "\n",
    "Before scanning, you will be prompted to specify the **COM port used by the Launchpad and the display associated with the projector.** \n",
    "\n",
    "**Select the COM port associated with UART1 (previously accessed in the Energia Serial Monitor and found using the Device Manager) and the 1280x720 projector screen.** Note that you want to specify the index of your choice i.e. for `2) 1280 x 720`, specify 2. **<span style=\"color:red\">Make sure that you selected the correct COM port!</span>**\n",
    "\n",
    "`capture_image.py` iterates over the rows of the $H$ matrix you made. These rows are translated, one-by-one, into real masks projected onto the screen. Light sensor readings are taken for each mask. At the start of the scan, you'll see a series of `Loc: # Data: #` printed to the output below. `Loc` corresponds to the index $k$ of the current sensor reading (and likewise current row of H). `Data` corresponds to the actual digitized value obtained from the light sensor. This \"debug\" information is printed consecutively for the first few/last few sensor outputs. Otherwise, this info is printed when `k % 100 = 0` (every 100 scans). \n",
    "\n",
    "Don't worry about messages like `Time delta between captures in s: #`. This is printed a lot because the lab computers are kind of slow. \n",
    "\n",
    "The whole scanning process should take roughly 3 minutes. \n",
    "\n",
    "Running the code block below will start your scan."
   ]
  },
  {
   "cell_type": "code",
   "execution_count": null,
   "metadata": {
    "collapsed": true
   },
   "outputs": [],
   "source": [
    "# Import necessary libraries (so you don't have to start from the top)\n",
    "import numpy as np\n",
    "import matplotlib.pyplot as plt\n",
    "import scipy as sp\n",
    "import scipy.stats\n",
    "%matplotlib inline\n",
    "\n",
    "%run capture_image.py --mask H.npy --out sensor_readingsH"
   ]
  },
  {
   "cell_type": "markdown",
   "metadata": {},
   "source": [
    "**<span style=\"color:red\">Not getting a good picture?</span>**\n",
    "\n",
    "If you selected the incorrect COM port, a lot more \"debug\" lines will be dumped. You might notice `Data: -1` or `Losing data! Consider increasing your timeout!` messages. Once you see these messages, **save** your Jupyter notebook, then **close the ipython notebook in terminal (Ctrl+C twice) and re-open it**. You'll lose any saved variables (not output images), but everything you need has been saved to a file. Rerun the following code block again, but **make sure you select the right COM port**. "
   ]
  },
  {
   "cell_type": "markdown",
   "metadata": {},
   "source": [
    "After the sensor readings have been captured, load the sensor reading vector into the cell below. Once again, here is the equation relating $H$, the sensor reading column vector $\\vec{s}$, and the image column vector $\\vec{i}$:\n",
    "\n",
    "$$\\vec{s} = H \\vec{i}$$\n",
    "\n",
    "**<span style=\"color:red\">Recreate the image from the sensor readings obtained with `H`.</span>**"
   ]
  },
  {
   "cell_type": "code",
   "execution_count": null,
   "metadata": {
    "collapsed": true
   },
   "outputs": [],
   "source": [
    "# Sensor readings\n",
    "sr = np.load('sensor_readingsH_100_0.npy')\n",
    "H = np.load('H.npy')\n",
    "\n",
    "# TODO: Create the image vector from `H` and `sr`\n",
    "# Hint: Because `H` is a special matrix, technically you do not need to perform any matrix operations\n",
    "iv = # YOUR CODE HERE \n",
    "\n",
    "img = np.reshape(iv, (30, 40))\n",
    "plt.figure(figsize = (8, 8))\n",
    "plt.imshow(img, cmap = 'gray', interpolation=\"nearest\")"
   ]
  },
  {
   "cell_type": "markdown",
   "metadata": {},
   "source": [
    "Congratulations! You have imaged your first image using your single pixel camera! \n",
    "\n",
    "**<span style=\"color:red\">\n",
    "Does your recreated image match the real image? What are some problems you notice? \n",
    "</span>**\n",
    "\n",
    "Here is an example of a picture we took using this setup:\n",
    "\n",
    "<center>\n",
    "<img src=\"images/ee16a_picture.png\"/>\n",
    "</center>"
   ]
  },
  {
   "cell_type": "markdown",
   "metadata": {},
   "source": [
    "**<span style=\"color:red\">Next, use the second mask `H_Alt` for imaging. Can you repeat the same reconstruction procedure just by replacing $H$ with $H_{Alt}$? Why or why not?</span>**"
   ]
  },
  {
   "cell_type": "markdown",
   "metadata": {},
   "source": [
    "Run `capture_image.py` again (taking the same precautions as above) to collect sensor readings. Make sure to run it from the code block below to point the script to `H_Alt`. Then reconstruct the image."
   ]
  },
  {
   "cell_type": "code",
   "execution_count": null,
   "metadata": {
    "collapsed": true
   },
   "outputs": [],
   "source": [
    "# Import necessary libraries (so you don't have to start from the top)\n",
    "import numpy as np\n",
    "import matplotlib.pyplot as plt\n",
    "import scipy as sp\n",
    "import scipy.stats\n",
    "%matplotlib inline\n",
    "\n",
    "%run capture_image.py --mask H_Alt.npy --out sensor_readingsHAlt"
   ]
  },
  {
   "cell_type": "code",
   "execution_count": null,
   "metadata": {
    "collapsed": true
   },
   "outputs": [],
   "source": [
    "# Sensor readings\n",
    "sr = np.load('sensor_readingsHAlt_100_0.npy')\n",
    "H_Alt = np.load('HAlt.npy')\n",
    "\n",
    "# TODO: Create the image vector from `H_Alt` and `sr`\n",
    "# Hint: You need to perform a matrix operation before multiplying\n",
    "iv = # YOUR CODE HERE \n",
    "\n",
    "img = np.reshape(iv, (30, 40))\n",
    "plt.figure(figsize = (8, 8))\n",
    "plt.imshow(img, cmap = 'gray', interpolation=\"nearest\")"
   ]
  },
  {
   "cell_type": "markdown",
   "metadata": {},
   "source": [
    "You are done for the week! Save your code and circuit for next week, where you will illuminate multiple pixels per mask!"
   ]
  },
  {
   "cell_type": "markdown",
   "metadata": {},
   "source": [
    "#### You are ready to sign up for checkoff. DO NOT disassemble your circuit before checking off. Afterwards, you may take the Launchpad and circuit kit with you. Remember to bring it back next week!"
   ]
  },
  {
   "cell_type": "markdown",
   "metadata": {},
   "source": [
    "<a id='checkoff'></a>\n",
    "## Checkoff\n",
    "When you are ready to get checked off, please go to: https://goo.gl/forms/6yCLuz9FfTJRQKcq2. Fill out one form per person in your group. Follow the form exactly and submit. Your GSI or a Lab Assistant will come by once they are available and go through some checkoff questions with your group."
   ]
  },
  {
   "cell_type": "markdown",
   "metadata": {},
   "source": [
    "<a id='faq'></a>\n",
    "## FAQ\n",
    "* **Q: The screen jumps when connecting the computer to the Launchpad.**\n",
    "* A: Hit the reset button on the Launchpad.\n",
    "\n",
    "* **Q: The power indicator LED is not lighting up when the Launchpad is connected to the computer.**\n",
    "* A: Connect the Launchpad to the other USB port."
   ]
  }
 ],
 "metadata": {
  "anaconda-cloud": {},
  "kernelspec": {
   "display_name": "Python 3",
   "language": "python",
   "name": "python3"
  },
  "language_info": {
   "codemirror_mode": {
    "name": "ipython",
    "version": 3
   },
   "file_extension": ".py",
   "mimetype": "text/x-python",
   "name": "python",
   "nbconvert_exporter": "python",
   "pygments_lexer": "ipython3",
   "version": "3.6.1"
  }
 },
 "nbformat": 4,
 "nbformat_minor": 1
}
